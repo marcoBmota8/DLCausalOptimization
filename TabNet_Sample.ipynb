{
  "nbformat": 4,
  "nbformat_minor": 0,
  "metadata": {
    "colab": {
      "provenance": [],
      "authorship_tag": "ABX9TyN6ATOIbk0rzOmVbo1wN5EV",
      "include_colab_link": true
    },
    "kernelspec": {
      "name": "python3",
      "display_name": "Python 3"
    },
    "language_info": {
      "name": "python"
    }
  },
  "cells": [
    {
      "cell_type": "markdown",
      "metadata": {
        "id": "view-in-github",
        "colab_type": "text"
      },
      "source": [
        "<a href=\"https://colab.research.google.com/github/marcoBmota8/DLCausalOptimization/blob/main/TabNet_Sample.ipynb\" target=\"_parent\"><img src=\"https://colab.research.google.com/assets/colab-badge.svg\" alt=\"Open In Colab\"/></a>"
      ]
    },
    {
      "cell_type": "code",
      "execution_count": 1,
      "metadata": {
        "colab": {
          "base_uri": "https://localhost:8080/"
        },
        "id": "rTHsWpka9V-q",
        "outputId": "8b467d2a-be09-4a57-f7da-1dceeb08e38f"
      },
      "outputs": [
        {
          "output_type": "stream",
          "name": "stdout",
          "text": [
            "Requirement already satisfied: torch in /usr/local/lib/python3.10/dist-packages (2.2.1+cu121)\n",
            "Requirement already satisfied: filelock in /usr/local/lib/python3.10/dist-packages (from torch) (3.13.3)\n",
            "Requirement already satisfied: typing-extensions>=4.8.0 in /usr/local/lib/python3.10/dist-packages (from torch) (4.10.0)\n",
            "Requirement already satisfied: sympy in /usr/local/lib/python3.10/dist-packages (from torch) (1.12)\n",
            "Requirement already satisfied: networkx in /usr/local/lib/python3.10/dist-packages (from torch) (3.2.1)\n",
            "Requirement already satisfied: jinja2 in /usr/local/lib/python3.10/dist-packages (from torch) (3.1.3)\n",
            "Requirement already satisfied: fsspec in /usr/local/lib/python3.10/dist-packages (from torch) (2023.6.0)\n",
            "Requirement already satisfied: nvidia-cuda-nvrtc-cu12==12.1.105 in /usr/local/lib/python3.10/dist-packages (from torch) (12.1.105)\n",
            "Requirement already satisfied: nvidia-cuda-runtime-cu12==12.1.105 in /usr/local/lib/python3.10/dist-packages (from torch) (12.1.105)\n",
            "Requirement already satisfied: nvidia-cuda-cupti-cu12==12.1.105 in /usr/local/lib/python3.10/dist-packages (from torch) (12.1.105)\n",
            "Requirement already satisfied: nvidia-cudnn-cu12==8.9.2.26 in /usr/local/lib/python3.10/dist-packages (from torch) (8.9.2.26)\n",
            "Requirement already satisfied: nvidia-cublas-cu12==12.1.3.1 in /usr/local/lib/python3.10/dist-packages (from torch) (12.1.3.1)\n",
            "Requirement already satisfied: nvidia-cufft-cu12==11.0.2.54 in /usr/local/lib/python3.10/dist-packages (from torch) (11.0.2.54)\n",
            "Requirement already satisfied: nvidia-curand-cu12==10.3.2.106 in /usr/local/lib/python3.10/dist-packages (from torch) (10.3.2.106)\n",
            "Requirement already satisfied: nvidia-cusolver-cu12==11.4.5.107 in /usr/local/lib/python3.10/dist-packages (from torch) (11.4.5.107)\n",
            "Requirement already satisfied: nvidia-cusparse-cu12==12.1.0.106 in /usr/local/lib/python3.10/dist-packages (from torch) (12.1.0.106)\n",
            "Requirement already satisfied: nvidia-nccl-cu12==2.19.3 in /usr/local/lib/python3.10/dist-packages (from torch) (2.19.3)\n",
            "Requirement already satisfied: nvidia-nvtx-cu12==12.1.105 in /usr/local/lib/python3.10/dist-packages (from torch) (12.1.105)\n",
            "Requirement already satisfied: triton==2.2.0 in /usr/local/lib/python3.10/dist-packages (from torch) (2.2.0)\n",
            "Requirement already satisfied: nvidia-nvjitlink-cu12 in /usr/local/lib/python3.10/dist-packages (from nvidia-cusolver-cu12==11.4.5.107->torch) (12.4.127)\n",
            "Requirement already satisfied: MarkupSafe>=2.0 in /usr/local/lib/python3.10/dist-packages (from jinja2->torch) (2.1.5)\n",
            "Requirement already satisfied: mpmath>=0.19 in /usr/local/lib/python3.10/dist-packages (from sympy->torch) (1.3.0)\n",
            "Requirement already satisfied: pytorch-tabnet in /usr/local/lib/python3.10/dist-packages (4.1.0)\n",
            "Requirement already satisfied: numpy>=1.17 in /usr/local/lib/python3.10/dist-packages (from pytorch-tabnet) (1.25.2)\n",
            "Requirement already satisfied: scikit_learn>0.21 in /usr/local/lib/python3.10/dist-packages (from pytorch-tabnet) (1.2.2)\n",
            "Requirement already satisfied: scipy>1.4 in /usr/local/lib/python3.10/dist-packages (from pytorch-tabnet) (1.11.4)\n",
            "Requirement already satisfied: torch>=1.3 in /usr/local/lib/python3.10/dist-packages (from pytorch-tabnet) (2.2.1+cu121)\n",
            "Requirement already satisfied: tqdm>=4.36 in /usr/local/lib/python3.10/dist-packages (from pytorch-tabnet) (4.66.2)\n",
            "Requirement already satisfied: joblib>=1.1.1 in /usr/local/lib/python3.10/dist-packages (from scikit_learn>0.21->pytorch-tabnet) (1.3.2)\n",
            "Requirement already satisfied: threadpoolctl>=2.0.0 in /usr/local/lib/python3.10/dist-packages (from scikit_learn>0.21->pytorch-tabnet) (3.4.0)\n",
            "Requirement already satisfied: filelock in /usr/local/lib/python3.10/dist-packages (from torch>=1.3->pytorch-tabnet) (3.13.3)\n",
            "Requirement already satisfied: typing-extensions>=4.8.0 in /usr/local/lib/python3.10/dist-packages (from torch>=1.3->pytorch-tabnet) (4.10.0)\n",
            "Requirement already satisfied: sympy in /usr/local/lib/python3.10/dist-packages (from torch>=1.3->pytorch-tabnet) (1.12)\n",
            "Requirement already satisfied: networkx in /usr/local/lib/python3.10/dist-packages (from torch>=1.3->pytorch-tabnet) (3.2.1)\n",
            "Requirement already satisfied: jinja2 in /usr/local/lib/python3.10/dist-packages (from torch>=1.3->pytorch-tabnet) (3.1.3)\n",
            "Requirement already satisfied: fsspec in /usr/local/lib/python3.10/dist-packages (from torch>=1.3->pytorch-tabnet) (2023.6.0)\n",
            "Requirement already satisfied: nvidia-cuda-nvrtc-cu12==12.1.105 in /usr/local/lib/python3.10/dist-packages (from torch>=1.3->pytorch-tabnet) (12.1.105)\n",
            "Requirement already satisfied: nvidia-cuda-runtime-cu12==12.1.105 in /usr/local/lib/python3.10/dist-packages (from torch>=1.3->pytorch-tabnet) (12.1.105)\n",
            "Requirement already satisfied: nvidia-cuda-cupti-cu12==12.1.105 in /usr/local/lib/python3.10/dist-packages (from torch>=1.3->pytorch-tabnet) (12.1.105)\n",
            "Requirement already satisfied: nvidia-cudnn-cu12==8.9.2.26 in /usr/local/lib/python3.10/dist-packages (from torch>=1.3->pytorch-tabnet) (8.9.2.26)\n",
            "Requirement already satisfied: nvidia-cublas-cu12==12.1.3.1 in /usr/local/lib/python3.10/dist-packages (from torch>=1.3->pytorch-tabnet) (12.1.3.1)\n",
            "Requirement already satisfied: nvidia-cufft-cu12==11.0.2.54 in /usr/local/lib/python3.10/dist-packages (from torch>=1.3->pytorch-tabnet) (11.0.2.54)\n",
            "Requirement already satisfied: nvidia-curand-cu12==10.3.2.106 in /usr/local/lib/python3.10/dist-packages (from torch>=1.3->pytorch-tabnet) (10.3.2.106)\n",
            "Requirement already satisfied: nvidia-cusolver-cu12==11.4.5.107 in /usr/local/lib/python3.10/dist-packages (from torch>=1.3->pytorch-tabnet) (11.4.5.107)\n",
            "Requirement already satisfied: nvidia-cusparse-cu12==12.1.0.106 in /usr/local/lib/python3.10/dist-packages (from torch>=1.3->pytorch-tabnet) (12.1.0.106)\n",
            "Requirement already satisfied: nvidia-nccl-cu12==2.19.3 in /usr/local/lib/python3.10/dist-packages (from torch>=1.3->pytorch-tabnet) (2.19.3)\n",
            "Requirement already satisfied: nvidia-nvtx-cu12==12.1.105 in /usr/local/lib/python3.10/dist-packages (from torch>=1.3->pytorch-tabnet) (12.1.105)\n",
            "Requirement already satisfied: triton==2.2.0 in /usr/local/lib/python3.10/dist-packages (from torch>=1.3->pytorch-tabnet) (2.2.0)\n",
            "Requirement already satisfied: nvidia-nvjitlink-cu12 in /usr/local/lib/python3.10/dist-packages (from nvidia-cusolver-cu12==11.4.5.107->torch>=1.3->pytorch-tabnet) (12.4.127)\n",
            "Requirement already satisfied: MarkupSafe>=2.0 in /usr/local/lib/python3.10/dist-packages (from jinja2->torch>=1.3->pytorch-tabnet) (2.1.5)\n",
            "Requirement already satisfied: mpmath>=0.19 in /usr/local/lib/python3.10/dist-packages (from sympy->torch>=1.3->pytorch-tabnet) (1.3.0)\n",
            "Requirement already satisfied: pandas in /usr/local/lib/python3.10/dist-packages (2.0.3)\n",
            "Requirement already satisfied: pytest in /usr/local/lib/python3.10/dist-packages (7.4.4)\n",
            "Requirement already satisfied: pytest-cov in /usr/local/lib/python3.10/dist-packages (5.0.0)\n",
            "Requirement already satisfied: seaborn in /usr/local/lib/python3.10/dist-packages (0.13.1)\n",
            "Requirement already satisfied: shap in /usr/local/lib/python3.10/dist-packages (0.45.0)\n",
            "Requirement already satisfied: tensorflow in /usr/local/lib/python3.10/dist-packages (2.15.0)\n",
            "Requirement already satisfied: DataProfiler[full] in /usr/local/lib/python3.10/dist-packages (0.10.9)\n",
            "Requirement already satisfied: python-dateutil>=2.8.2 in /usr/local/lib/python3.10/dist-packages (from pandas) (2.8.2)\n",
            "Requirement already satisfied: pytz>=2020.1 in /usr/local/lib/python3.10/dist-packages (from pandas) (2023.4)\n",
            "Requirement already satisfied: tzdata>=2022.1 in /usr/local/lib/python3.10/dist-packages (from pandas) (2024.1)\n",
            "Requirement already satisfied: numpy>=1.21.0 in /usr/local/lib/python3.10/dist-packages (from pandas) (1.25.2)\n",
            "Requirement already satisfied: iniconfig in /usr/local/lib/python3.10/dist-packages (from pytest) (2.0.0)\n",
            "Requirement already satisfied: packaging in /usr/local/lib/python3.10/dist-packages (from pytest) (24.0)\n",
            "Requirement already satisfied: pluggy<2.0,>=0.12 in /usr/local/lib/python3.10/dist-packages (from pytest) (1.4.0)\n",
            "Requirement already satisfied: exceptiongroup>=1.0.0rc8 in /usr/local/lib/python3.10/dist-packages (from pytest) (1.2.0)\n",
            "Requirement already satisfied: tomli>=1.0.0 in /usr/local/lib/python3.10/dist-packages (from pytest) (2.0.1)\n",
            "Requirement already satisfied: coverage[toml]>=5.2.1 in /usr/local/lib/python3.10/dist-packages (from pytest-cov) (7.4.4)\n",
            "Requirement already satisfied: matplotlib!=3.6.1,>=3.4 in /usr/local/lib/python3.10/dist-packages (from seaborn) (3.7.1)\n",
            "Requirement already satisfied: scipy in /usr/local/lib/python3.10/dist-packages (from shap) (1.11.4)\n",
            "Requirement already satisfied: scikit-learn in /usr/local/lib/python3.10/dist-packages (from shap) (1.2.2)\n",
            "Requirement already satisfied: tqdm>=4.27.0 in /usr/local/lib/python3.10/dist-packages (from shap) (4.66.2)\n",
            "Requirement already satisfied: slicer==0.0.7 in /usr/local/lib/python3.10/dist-packages (from shap) (0.0.7)\n",
            "Requirement already satisfied: numba in /usr/local/lib/python3.10/dist-packages (from shap) (0.58.1)\n",
            "Requirement already satisfied: cloudpickle in /usr/local/lib/python3.10/dist-packages (from shap) (2.2.1)\n",
            "Requirement already satisfied: absl-py>=1.0.0 in /usr/local/lib/python3.10/dist-packages (from tensorflow) (1.4.0)\n",
            "Requirement already satisfied: astunparse>=1.6.0 in /usr/local/lib/python3.10/dist-packages (from tensorflow) (1.6.3)\n",
            "Requirement already satisfied: flatbuffers>=23.5.26 in /usr/local/lib/python3.10/dist-packages (from tensorflow) (24.3.25)\n",
            "Requirement already satisfied: gast!=0.5.0,!=0.5.1,!=0.5.2,>=0.2.1 in /usr/local/lib/python3.10/dist-packages (from tensorflow) (0.5.4)\n",
            "Requirement already satisfied: google-pasta>=0.1.1 in /usr/local/lib/python3.10/dist-packages (from tensorflow) (0.2.0)\n",
            "Requirement already satisfied: h5py>=2.9.0 in /usr/local/lib/python3.10/dist-packages (from tensorflow) (3.9.0)\n",
            "Requirement already satisfied: libclang>=13.0.0 in /usr/local/lib/python3.10/dist-packages (from tensorflow) (18.1.1)\n",
            "Requirement already satisfied: ml-dtypes~=0.2.0 in /usr/local/lib/python3.10/dist-packages (from tensorflow) (0.2.0)\n",
            "Requirement already satisfied: opt-einsum>=2.3.2 in /usr/local/lib/python3.10/dist-packages (from tensorflow) (3.3.0)\n",
            "Requirement already satisfied: protobuf!=4.21.0,!=4.21.1,!=4.21.2,!=4.21.3,!=4.21.4,!=4.21.5,<5.0.0dev,>=3.20.3 in /usr/local/lib/python3.10/dist-packages (from tensorflow) (3.20.3)\n",
            "Requirement already satisfied: setuptools in /usr/local/lib/python3.10/dist-packages (from tensorflow) (67.7.2)\n",
            "Requirement already satisfied: six>=1.12.0 in /usr/local/lib/python3.10/dist-packages (from tensorflow) (1.16.0)\n",
            "Requirement already satisfied: termcolor>=1.1.0 in /usr/local/lib/python3.10/dist-packages (from tensorflow) (2.4.0)\n",
            "Requirement already satisfied: typing-extensions>=3.6.6 in /usr/local/lib/python3.10/dist-packages (from tensorflow) (4.10.0)\n",
            "Requirement already satisfied: wrapt<1.15,>=1.11.0 in /usr/local/lib/python3.10/dist-packages (from tensorflow) (1.14.1)\n",
            "Requirement already satisfied: tensorflow-io-gcs-filesystem>=0.23.1 in /usr/local/lib/python3.10/dist-packages (from tensorflow) (0.36.0)\n",
            "Requirement already satisfied: grpcio<2.0,>=1.24.3 in /usr/local/lib/python3.10/dist-packages (from tensorflow) (1.62.1)\n",
            "Requirement already satisfied: tensorboard<2.16,>=2.15 in /usr/local/lib/python3.10/dist-packages (from tensorflow) (2.15.2)\n",
            "Requirement already satisfied: tensorflow-estimator<2.16,>=2.15.0 in /usr/local/lib/python3.10/dist-packages (from tensorflow) (2.15.0)\n",
            "Requirement already satisfied: keras<2.16,>=2.15.0 in /usr/local/lib/python3.10/dist-packages (from tensorflow) (2.15.0)\n",
            "Requirement already satisfied: wheel>=0.33.1 in /usr/local/lib/python3.10/dist-packages (from DataProfiler[full]) (0.43.0)\n",
            "Requirement already satisfied: pyarrow>=1.0.1 in /usr/local/lib/python3.10/dist-packages (from DataProfiler[full]) (14.0.2)\n",
            "Requirement already satisfied: chardet>=3.0.4 in /usr/local/lib/python3.10/dist-packages (from DataProfiler[full]) (5.2.0)\n",
            "Requirement already satisfied: fastavro>=1.0.0.post1 in /usr/local/lib/python3.10/dist-packages (from DataProfiler[full]) (1.9.4)\n",
            "Requirement already satisfied: python-snappy>=0.5.4 in /usr/local/lib/python3.10/dist-packages (from DataProfiler[full]) (0.7.1)\n",
            "Requirement already satisfied: charset-normalizer>=1.3.6 in /usr/local/lib/python3.10/dist-packages (from DataProfiler[full]) (3.3.2)\n",
            "Requirement already satisfied: psutil>=4.0.0 in /usr/local/lib/python3.10/dist-packages (from DataProfiler[full]) (5.9.5)\n",
            "Requirement already satisfied: requests>=2.28.1 in /usr/local/lib/python3.10/dist-packages (from DataProfiler[full]) (2.31.0)\n",
            "Requirement already satisfied: networkx>=2.5.1 in /usr/local/lib/python3.10/dist-packages (from DataProfiler[full]) (3.2.1)\n",
            "Requirement already satisfied: HLL>=2.0.3 in /usr/local/lib/python3.10/dist-packages (from DataProfiler[full]) (2.0.3)\n",
            "Requirement already satisfied: datasketches>=4.1.0 in /usr/local/lib/python3.10/dist-packages (from DataProfiler[full]) (5.0.2)\n",
            "Requirement already satisfied: boto3>=1.28.61 in /usr/local/lib/python3.10/dist-packages (from DataProfiler[full]) (1.34.82)\n",
            "Requirement already satisfied: rapidfuzz>=2.6.1 in /usr/local/lib/python3.10/dist-packages (from DataProfiler[full]) (3.8.1)\n",
            "Requirement already satisfied: botocore<1.35.0,>=1.34.82 in /usr/local/lib/python3.10/dist-packages (from boto3>=1.28.61->DataProfiler[full]) (1.34.82)\n",
            "Requirement already satisfied: jmespath<2.0.0,>=0.7.1 in /usr/local/lib/python3.10/dist-packages (from boto3>=1.28.61->DataProfiler[full]) (1.0.1)\n",
            "Requirement already satisfied: s3transfer<0.11.0,>=0.10.0 in /usr/local/lib/python3.10/dist-packages (from boto3>=1.28.61->DataProfiler[full]) (0.10.1)\n",
            "Requirement already satisfied: contourpy>=1.0.1 in /usr/local/lib/python3.10/dist-packages (from matplotlib!=3.6.1,>=3.4->seaborn) (1.2.1)\n",
            "Requirement already satisfied: cycler>=0.10 in /usr/local/lib/python3.10/dist-packages (from matplotlib!=3.6.1,>=3.4->seaborn) (0.12.1)\n",
            "Requirement already satisfied: fonttools>=4.22.0 in /usr/local/lib/python3.10/dist-packages (from matplotlib!=3.6.1,>=3.4->seaborn) (4.50.0)\n",
            "Requirement already satisfied: kiwisolver>=1.0.1 in /usr/local/lib/python3.10/dist-packages (from matplotlib!=3.6.1,>=3.4->seaborn) (1.4.5)\n",
            "Requirement already satisfied: pillow>=6.2.0 in /usr/local/lib/python3.10/dist-packages (from matplotlib!=3.6.1,>=3.4->seaborn) (9.4.0)\n",
            "Requirement already satisfied: pyparsing>=2.3.1 in /usr/local/lib/python3.10/dist-packages (from matplotlib!=3.6.1,>=3.4->seaborn) (3.1.2)\n",
            "Requirement already satisfied: cramjam in /usr/local/lib/python3.10/dist-packages (from python-snappy>=0.5.4->DataProfiler[full]) (2.8.3)\n",
            "Requirement already satisfied: idna<4,>=2.5 in /usr/local/lib/python3.10/dist-packages (from requests>=2.28.1->DataProfiler[full]) (3.6)\n",
            "Requirement already satisfied: urllib3<3,>=1.21.1 in /usr/local/lib/python3.10/dist-packages (from requests>=2.28.1->DataProfiler[full]) (2.0.7)\n",
            "Requirement already satisfied: certifi>=2017.4.17 in /usr/local/lib/python3.10/dist-packages (from requests>=2.28.1->DataProfiler[full]) (2024.2.2)\n",
            "Requirement already satisfied: joblib>=1.1.1 in /usr/local/lib/python3.10/dist-packages (from scikit-learn->shap) (1.3.2)\n",
            "Requirement already satisfied: threadpoolctl>=2.0.0 in /usr/local/lib/python3.10/dist-packages (from scikit-learn->shap) (3.4.0)\n",
            "Requirement already satisfied: google-auth<3,>=1.6.3 in /usr/local/lib/python3.10/dist-packages (from tensorboard<2.16,>=2.15->tensorflow) (2.27.0)\n",
            "Requirement already satisfied: google-auth-oauthlib<2,>=0.5 in /usr/local/lib/python3.10/dist-packages (from tensorboard<2.16,>=2.15->tensorflow) (1.2.0)\n",
            "Requirement already satisfied: markdown>=2.6.8 in /usr/local/lib/python3.10/dist-packages (from tensorboard<2.16,>=2.15->tensorflow) (3.6)\n",
            "Requirement already satisfied: tensorboard-data-server<0.8.0,>=0.7.0 in /usr/local/lib/python3.10/dist-packages (from tensorboard<2.16,>=2.15->tensorflow) (0.7.2)\n",
            "Requirement already satisfied: werkzeug>=1.0.1 in /usr/local/lib/python3.10/dist-packages (from tensorboard<2.16,>=2.15->tensorflow) (3.0.2)\n",
            "Requirement already satisfied: llvmlite<0.42,>=0.41.0dev0 in /usr/local/lib/python3.10/dist-packages (from numba->shap) (0.41.1)\n",
            "Requirement already satisfied: cachetools<6.0,>=2.0.0 in /usr/local/lib/python3.10/dist-packages (from google-auth<3,>=1.6.3->tensorboard<2.16,>=2.15->tensorflow) (5.3.3)\n",
            "Requirement already satisfied: pyasn1-modules>=0.2.1 in /usr/local/lib/python3.10/dist-packages (from google-auth<3,>=1.6.3->tensorboard<2.16,>=2.15->tensorflow) (0.4.0)\n",
            "Requirement already satisfied: rsa<5,>=3.1.4 in /usr/local/lib/python3.10/dist-packages (from google-auth<3,>=1.6.3->tensorboard<2.16,>=2.15->tensorflow) (4.9)\n",
            "Requirement already satisfied: requests-oauthlib>=0.7.0 in /usr/local/lib/python3.10/dist-packages (from google-auth-oauthlib<2,>=0.5->tensorboard<2.16,>=2.15->tensorflow) (1.3.1)\n",
            "Requirement already satisfied: MarkupSafe>=2.1.1 in /usr/local/lib/python3.10/dist-packages (from werkzeug>=1.0.1->tensorboard<2.16,>=2.15->tensorflow) (2.1.5)\n",
            "Requirement already satisfied: pyasn1<0.7.0,>=0.4.6 in /usr/local/lib/python3.10/dist-packages (from pyasn1-modules>=0.2.1->google-auth<3,>=1.6.3->tensorboard<2.16,>=2.15->tensorflow) (0.6.0)\n",
            "Requirement already satisfied: oauthlib>=3.0.0 in /usr/local/lib/python3.10/dist-packages (from requests-oauthlib>=0.7.0->google-auth-oauthlib<2,>=0.5->tensorboard<2.16,>=2.15->tensorflow) (3.2.2)\n"
          ]
        }
      ],
      "source": [
        "!pip install torch\n",
        "!pip install pytorch-tabnet\n",
        "!git clone https://github.com/capitalone/synthetic-data.git\n",
        "!apt install python3.10-venv\n",
        "!pip install pandas pytest pytest-cov seaborn shap tensorflow \"DataProfiler[full]\""
      ]
    },
    {
      "cell_type": "code",
      "source": [
        "!cd /content/synthetic-data\n",
        "!python3 -m venv .venv\n",
        "!source .venv/bin/activate\n",
        "!pip install -r /content/synthetic-data/requirements.txt\n",
        "!pip install -e /content/synthetic-data"
      ],
      "metadata": {
        "colab": {
          "base_uri": "https://localhost:8080/"
        },
        "id": "jW4Ramqr-5aD",
        "outputId": "99a6cb32-f913-497b-803b-e34db1ee3bf4"
      },
      "execution_count": 2,
      "outputs": [
        {
          "output_type": "stream",
          "name": "stdout",
          "text": [
            "Requirement already satisfied: numpy>=1.22.0 in /usr/local/lib/python3.10/dist-packages (from -r /content/synthetic-data/requirements.txt (line 1)) (1.25.2)\n",
            "Requirement already satisfied: scikit-learn>=1.1.0 in /usr/local/lib/python3.10/dist-packages (from -r /content/synthetic-data/requirements.txt (line 2)) (1.2.2)\n",
            "Requirement already satisfied: scipy>=1.10.0 in /usr/local/lib/python3.10/dist-packages (from -r /content/synthetic-data/requirements.txt (line 3)) (1.11.4)\n",
            "Requirement already satisfied: dataprofiler>=0.10.3 in /usr/local/lib/python3.10/dist-packages (from -r /content/synthetic-data/requirements.txt (line 4)) (0.10.9)\n",
            "Requirement already satisfied: joblib>=1.1.1 in /usr/local/lib/python3.10/dist-packages (from scikit-learn>=1.1.0->-r /content/synthetic-data/requirements.txt (line 2)) (1.3.2)\n",
            "Requirement already satisfied: threadpoolctl>=2.0.0 in /usr/local/lib/python3.10/dist-packages (from scikit-learn>=1.1.0->-r /content/synthetic-data/requirements.txt (line 2)) (3.4.0)\n",
            "Requirement already satisfied: h5py>=2.10.0 in /usr/local/lib/python3.10/dist-packages (from dataprofiler>=0.10.3->-r /content/synthetic-data/requirements.txt (line 4)) (3.9.0)\n",
            "Requirement already satisfied: wheel>=0.33.1 in /usr/local/lib/python3.10/dist-packages (from dataprofiler>=0.10.3->-r /content/synthetic-data/requirements.txt (line 4)) (0.43.0)\n",
            "Requirement already satisfied: pandas>=1.1.2 in /usr/local/lib/python3.10/dist-packages (from dataprofiler>=0.10.3->-r /content/synthetic-data/requirements.txt (line 4)) (2.0.3)\n",
            "Requirement already satisfied: python-dateutil>=2.7.5 in /usr/local/lib/python3.10/dist-packages (from dataprofiler>=0.10.3->-r /content/synthetic-data/requirements.txt (line 4)) (2.8.2)\n",
            "Requirement already satisfied: pytz>=2020.1 in /usr/local/lib/python3.10/dist-packages (from dataprofiler>=0.10.3->-r /content/synthetic-data/requirements.txt (line 4)) (2023.4)\n",
            "Requirement already satisfied: pyarrow>=1.0.1 in /usr/local/lib/python3.10/dist-packages (from dataprofiler>=0.10.3->-r /content/synthetic-data/requirements.txt (line 4)) (14.0.2)\n",
            "Requirement already satisfied: chardet>=3.0.4 in /usr/local/lib/python3.10/dist-packages (from dataprofiler>=0.10.3->-r /content/synthetic-data/requirements.txt (line 4)) (5.2.0)\n",
            "Requirement already satisfied: fastavro>=1.0.0.post1 in /usr/local/lib/python3.10/dist-packages (from dataprofiler>=0.10.3->-r /content/synthetic-data/requirements.txt (line 4)) (1.9.4)\n",
            "Requirement already satisfied: python-snappy>=0.5.4 in /usr/local/lib/python3.10/dist-packages (from dataprofiler>=0.10.3->-r /content/synthetic-data/requirements.txt (line 4)) (0.7.1)\n",
            "Requirement already satisfied: charset-normalizer>=1.3.6 in /usr/local/lib/python3.10/dist-packages (from dataprofiler>=0.10.3->-r /content/synthetic-data/requirements.txt (line 4)) (3.3.2)\n",
            "Requirement already satisfied: psutil>=4.0.0 in /usr/local/lib/python3.10/dist-packages (from dataprofiler>=0.10.3->-r /content/synthetic-data/requirements.txt (line 4)) (5.9.5)\n",
            "Requirement already satisfied: requests>=2.28.1 in /usr/local/lib/python3.10/dist-packages (from dataprofiler>=0.10.3->-r /content/synthetic-data/requirements.txt (line 4)) (2.31.0)\n",
            "Requirement already satisfied: networkx>=2.5.1 in /usr/local/lib/python3.10/dist-packages (from dataprofiler>=0.10.3->-r /content/synthetic-data/requirements.txt (line 4)) (3.2.1)\n",
            "Requirement already satisfied: typing-extensions>=3.10.0.2 in /usr/local/lib/python3.10/dist-packages (from dataprofiler>=0.10.3->-r /content/synthetic-data/requirements.txt (line 4)) (4.10.0)\n",
            "Requirement already satisfied: HLL>=2.0.3 in /usr/local/lib/python3.10/dist-packages (from dataprofiler>=0.10.3->-r /content/synthetic-data/requirements.txt (line 4)) (2.0.3)\n",
            "Requirement already satisfied: datasketches>=4.1.0 in /usr/local/lib/python3.10/dist-packages (from dataprofiler>=0.10.3->-r /content/synthetic-data/requirements.txt (line 4)) (5.0.2)\n",
            "Requirement already satisfied: packaging>=23.0 in /usr/local/lib/python3.10/dist-packages (from dataprofiler>=0.10.3->-r /content/synthetic-data/requirements.txt (line 4)) (24.0)\n",
            "Requirement already satisfied: boto3>=1.28.61 in /usr/local/lib/python3.10/dist-packages (from dataprofiler>=0.10.3->-r /content/synthetic-data/requirements.txt (line 4)) (1.34.82)\n",
            "Requirement already satisfied: botocore<1.35.0,>=1.34.82 in /usr/local/lib/python3.10/dist-packages (from boto3>=1.28.61->dataprofiler>=0.10.3->-r /content/synthetic-data/requirements.txt (line 4)) (1.34.82)\n",
            "Requirement already satisfied: jmespath<2.0.0,>=0.7.1 in /usr/local/lib/python3.10/dist-packages (from boto3>=1.28.61->dataprofiler>=0.10.3->-r /content/synthetic-data/requirements.txt (line 4)) (1.0.1)\n",
            "Requirement already satisfied: s3transfer<0.11.0,>=0.10.0 in /usr/local/lib/python3.10/dist-packages (from boto3>=1.28.61->dataprofiler>=0.10.3->-r /content/synthetic-data/requirements.txt (line 4)) (0.10.1)\n",
            "Requirement already satisfied: tzdata>=2022.1 in /usr/local/lib/python3.10/dist-packages (from pandas>=1.1.2->dataprofiler>=0.10.3->-r /content/synthetic-data/requirements.txt (line 4)) (2024.1)\n",
            "Requirement already satisfied: six>=1.5 in /usr/local/lib/python3.10/dist-packages (from python-dateutil>=2.7.5->dataprofiler>=0.10.3->-r /content/synthetic-data/requirements.txt (line 4)) (1.16.0)\n",
            "Requirement already satisfied: cramjam in /usr/local/lib/python3.10/dist-packages (from python-snappy>=0.5.4->dataprofiler>=0.10.3->-r /content/synthetic-data/requirements.txt (line 4)) (2.8.3)\n",
            "Requirement already satisfied: idna<4,>=2.5 in /usr/local/lib/python3.10/dist-packages (from requests>=2.28.1->dataprofiler>=0.10.3->-r /content/synthetic-data/requirements.txt (line 4)) (3.6)\n",
            "Requirement already satisfied: urllib3<3,>=1.21.1 in /usr/local/lib/python3.10/dist-packages (from requests>=2.28.1->dataprofiler>=0.10.3->-r /content/synthetic-data/requirements.txt (line 4)) (2.0.7)\n",
            "Requirement already satisfied: certifi>=2017.4.17 in /usr/local/lib/python3.10/dist-packages (from requests>=2.28.1->dataprofiler>=0.10.3->-r /content/synthetic-data/requirements.txt (line 4)) (2024.2.2)\n",
            "Obtaining file:///content/synthetic-data\n",
            "  Preparing metadata (setup.py) ... \u001b[?25l\u001b[?25hdone\n",
            "Requirement already satisfied: numpy>=1.22.0 in /usr/local/lib/python3.10/dist-packages (from synthetic-data==1.2.3) (1.25.2)\n",
            "Requirement already satisfied: scikit-learn>=1.1.0 in /usr/local/lib/python3.10/dist-packages (from synthetic-data==1.2.3) (1.2.2)\n",
            "Requirement already satisfied: scipy>=1.10.0 in /usr/local/lib/python3.10/dist-packages (from synthetic-data==1.2.3) (1.11.4)\n",
            "Requirement already satisfied: dataprofiler>=0.10.3 in /usr/local/lib/python3.10/dist-packages (from synthetic-data==1.2.3) (0.10.9)\n",
            "Requirement already satisfied: h5py>=2.10.0 in /usr/local/lib/python3.10/dist-packages (from dataprofiler>=0.10.3->synthetic-data==1.2.3) (3.9.0)\n",
            "Requirement already satisfied: wheel>=0.33.1 in /usr/local/lib/python3.10/dist-packages (from dataprofiler>=0.10.3->synthetic-data==1.2.3) (0.43.0)\n",
            "Requirement already satisfied: pandas>=1.1.2 in /usr/local/lib/python3.10/dist-packages (from dataprofiler>=0.10.3->synthetic-data==1.2.3) (2.0.3)\n",
            "Requirement already satisfied: python-dateutil>=2.7.5 in /usr/local/lib/python3.10/dist-packages (from dataprofiler>=0.10.3->synthetic-data==1.2.3) (2.8.2)\n",
            "Requirement already satisfied: pytz>=2020.1 in /usr/local/lib/python3.10/dist-packages (from dataprofiler>=0.10.3->synthetic-data==1.2.3) (2023.4)\n",
            "Requirement already satisfied: pyarrow>=1.0.1 in /usr/local/lib/python3.10/dist-packages (from dataprofiler>=0.10.3->synthetic-data==1.2.3) (14.0.2)\n",
            "Requirement already satisfied: chardet>=3.0.4 in /usr/local/lib/python3.10/dist-packages (from dataprofiler>=0.10.3->synthetic-data==1.2.3) (5.2.0)\n",
            "Requirement already satisfied: fastavro>=1.0.0.post1 in /usr/local/lib/python3.10/dist-packages (from dataprofiler>=0.10.3->synthetic-data==1.2.3) (1.9.4)\n",
            "Requirement already satisfied: python-snappy>=0.5.4 in /usr/local/lib/python3.10/dist-packages (from dataprofiler>=0.10.3->synthetic-data==1.2.3) (0.7.1)\n",
            "Requirement already satisfied: charset-normalizer>=1.3.6 in /usr/local/lib/python3.10/dist-packages (from dataprofiler>=0.10.3->synthetic-data==1.2.3) (3.3.2)\n",
            "Requirement already satisfied: psutil>=4.0.0 in /usr/local/lib/python3.10/dist-packages (from dataprofiler>=0.10.3->synthetic-data==1.2.3) (5.9.5)\n",
            "Requirement already satisfied: requests>=2.28.1 in /usr/local/lib/python3.10/dist-packages (from dataprofiler>=0.10.3->synthetic-data==1.2.3) (2.31.0)\n",
            "Requirement already satisfied: networkx>=2.5.1 in /usr/local/lib/python3.10/dist-packages (from dataprofiler>=0.10.3->synthetic-data==1.2.3) (3.2.1)\n",
            "Requirement already satisfied: typing-extensions>=3.10.0.2 in /usr/local/lib/python3.10/dist-packages (from dataprofiler>=0.10.3->synthetic-data==1.2.3) (4.10.0)\n",
            "Requirement already satisfied: HLL>=2.0.3 in /usr/local/lib/python3.10/dist-packages (from dataprofiler>=0.10.3->synthetic-data==1.2.3) (2.0.3)\n",
            "Requirement already satisfied: datasketches>=4.1.0 in /usr/local/lib/python3.10/dist-packages (from dataprofiler>=0.10.3->synthetic-data==1.2.3) (5.0.2)\n",
            "Requirement already satisfied: packaging>=23.0 in /usr/local/lib/python3.10/dist-packages (from dataprofiler>=0.10.3->synthetic-data==1.2.3) (24.0)\n",
            "Requirement already satisfied: boto3>=1.28.61 in /usr/local/lib/python3.10/dist-packages (from dataprofiler>=0.10.3->synthetic-data==1.2.3) (1.34.82)\n",
            "Requirement already satisfied: joblib>=1.1.1 in /usr/local/lib/python3.10/dist-packages (from scikit-learn>=1.1.0->synthetic-data==1.2.3) (1.3.2)\n",
            "Requirement already satisfied: threadpoolctl>=2.0.0 in /usr/local/lib/python3.10/dist-packages (from scikit-learn>=1.1.0->synthetic-data==1.2.3) (3.4.0)\n",
            "Requirement already satisfied: botocore<1.35.0,>=1.34.82 in /usr/local/lib/python3.10/dist-packages (from boto3>=1.28.61->dataprofiler>=0.10.3->synthetic-data==1.2.3) (1.34.82)\n",
            "Requirement already satisfied: jmespath<2.0.0,>=0.7.1 in /usr/local/lib/python3.10/dist-packages (from boto3>=1.28.61->dataprofiler>=0.10.3->synthetic-data==1.2.3) (1.0.1)\n",
            "Requirement already satisfied: s3transfer<0.11.0,>=0.10.0 in /usr/local/lib/python3.10/dist-packages (from boto3>=1.28.61->dataprofiler>=0.10.3->synthetic-data==1.2.3) (0.10.1)\n",
            "Requirement already satisfied: tzdata>=2022.1 in /usr/local/lib/python3.10/dist-packages (from pandas>=1.1.2->dataprofiler>=0.10.3->synthetic-data==1.2.3) (2024.1)\n",
            "Requirement already satisfied: six>=1.5 in /usr/local/lib/python3.10/dist-packages (from python-dateutil>=2.7.5->dataprofiler>=0.10.3->synthetic-data==1.2.3) (1.16.0)\n",
            "Requirement already satisfied: cramjam in /usr/local/lib/python3.10/dist-packages (from python-snappy>=0.5.4->dataprofiler>=0.10.3->synthetic-data==1.2.3) (2.8.3)\n",
            "Requirement already satisfied: idna<4,>=2.5 in /usr/local/lib/python3.10/dist-packages (from requests>=2.28.1->dataprofiler>=0.10.3->synthetic-data==1.2.3) (3.6)\n",
            "Requirement already satisfied: urllib3<3,>=1.21.1 in /usr/local/lib/python3.10/dist-packages (from requests>=2.28.1->dataprofiler>=0.10.3->synthetic-data==1.2.3) (2.0.7)\n",
            "Requirement already satisfied: certifi>=2017.4.17 in /usr/local/lib/python3.10/dist-packages (from requests>=2.28.1->dataprofiler>=0.10.3->synthetic-data==1.2.3) (2024.2.2)\n",
            "Installing collected packages: synthetic-data\n",
            "  Attempting uninstall: synthetic-data\n",
            "    Found existing installation: synthetic-data 1.2.3\n",
            "    Uninstalling synthetic-data-1.2.3:\n",
            "      Successfully uninstalled synthetic-data-1.2.3\n",
            "  Running setup.py develop for synthetic-data\n",
            "Successfully installed synthetic-data-1.2.3\n"
          ]
        }
      ]
    },
    {
      "cell_type": "code",
      "source": [
        "import os\n",
        "\n",
        "import torch\n",
        "import pytorch_tabnet\n",
        "import dataprofiler as dp\n",
        "import numpy as np\n",
        "import pandas as pd\n",
        "\n",
        "os.chdir('/content/synthetic-data')\n",
        "\n",
        "from synthetic_data import Generator\n",
        "from synthetic_data.distinct_generators import datetime_generator\n",
        "from synthetic_data.generators import TabularGenerator\n",
        "from synthetic_data.synthetic_data import make_tabular_data\n",
        "\n",
        "from pytorch_tabnet.tab_model import TabNetRegressor, TabNetClassifier\n",
        "from sklearn.preprocessing import LabelEncoder\n",
        "from sklearn.metrics import mean_squared_error\n",
        "\n",
        "from matplotlib import pyplot as plt\n",
        "\n",
        "\n",
        "dp.set_seed(0)\n",
        "\n",
        "profile_options = dp.ProfilerOptions()\n",
        "profile_options.set(\n",
        "    {\n",
        "        \"data_labeler.is_enabled\": False,\n",
        "        \"correlation.is_enabled\": True,\n",
        "        \"multiprocess.is_enabled\": False,\n",
        "    }\n",
        ")\n",
        "\n",
        "tab_data = dp.Data(os.path.join(os.getcwd(), \"tests/data/iris.csv\"))\n",
        "tab_profile = dp.Profiler(\n",
        "    tab_data, profiler_type=\"structured\", options=profile_options\n",
        ")\n",
        "generator = Generator(profile=tab_profile, seed=42)\n",
        "synthetic_data = generator.synthesize(250)\n",
        "\n",
        "# col_map = {\"x1\": 0, \"x2\": 1, \"x3\": 2, \"x4\": 3}\n",
        "\n",
        "# synthetic_data = make_tabular_data(n_samples=100, n_informative=4, col_map=col_map)\n",
        "print(synthetic_data)\n",
        "\n",
        "# print(\"hi\")"
      ],
      "metadata": {
        "colab": {
          "base_uri": "https://localhost:8080/"
        },
        "id": "hBEWRSB59cFp",
        "outputId": "081dae7e-7ec2-469a-884c-cf8e7f81f418"
      },
      "execution_count": 120,
      "outputs": [
        {
          "output_type": "stream",
          "name": "stdout",
          "text": [
            "INFO:DataProfiler.profilers.profile_builder: Finding the Null values in the columns... \n"
          ]
        },
        {
          "output_type": "stream",
          "name": "stderr",
          "text": [
            "INFO:DataProfiler.profilers.profile_builder:Finding the Null values in the columns... \n",
            "100%|██████████| 5/5 [00:00<00:00, 153.50it/s]"
          ]
        },
        {
          "output_type": "stream",
          "name": "stdout",
          "text": [
            "INFO:DataProfiler.profilers.profile_builder: Calculating the statistics... \n"
          ]
        },
        {
          "output_type": "stream",
          "name": "stderr",
          "text": [
            "\n",
            "INFO:DataProfiler.profilers.profile_builder:Calculating the statistics... \n",
            "100%|██████████| 5/5 [00:00<00:00,  5.02it/s]\n"
          ]
        },
        {
          "output_type": "stream",
          "name": "stdout",
          "text": [
            "sepal length (cm) True\n",
            "0 float\n",
            "sepal width (cm) True\n",
            "1 float\n",
            "petal length (cm) True\n",
            "2 float\n",
            "petal width (cm) True\n",
            "3 float\n",
            "target False\n",
            "4 int\n",
            "     sepal length (cm)  sepal width (cm)  petal length (cm)  petal width (cm)  \\\n",
            "0                  5.4               3.1                3.0              0.49   \n",
            "1                  5.5               2.3                4.7              1.39   \n",
            "2                  6.7               2.9                4.8              1.85   \n",
            "3                  6.9               3.1                4.9              1.87   \n",
            "4                  4.9               3.2                1.1              0.18   \n",
            "..                 ...               ...                ...               ...   \n",
            "245                5.7               3.1                4.6              1.23   \n",
            "246                6.6               3.6                5.2              1.88   \n",
            "247                4.3               2.9                1.1              0.14   \n",
            "248                6.3               3.0                4.7              1.79   \n",
            "249                6.7               2.9                5.9              2.37   \n",
            "\n",
            "     target  \n",
            "0       0.0  \n",
            "1       2.0  \n",
            "2       2.0  \n",
            "3       2.0  \n",
            "4       0.0  \n",
            "..      ...  \n",
            "245     1.0  \n",
            "246     1.0  \n",
            "247     0.0  \n",
            "248     2.0  \n",
            "249     2.0  \n",
            "\n",
            "[250 rows x 5 columns]\n"
          ]
        }
      ]
    },
    {
      "cell_type": "code",
      "source": [
        "train = synthetic_data\n",
        "if \"Set\" not in train.columns:\n",
        "    train[\"Set\"] = np.random.choice([\"train\", \"valid\", \"test\"], p =[.8, .1, .1], size=(train.shape[0],))\n",
        "\n",
        "train_indices = train[train.Set==\"train\"].index\n",
        "valid_indices = train[train.Set==\"valid\"].index\n",
        "test_indices = train[train.Set==\"test\"].index\n",
        "print(train)"
      ],
      "metadata": {
        "colab": {
          "base_uri": "https://localhost:8080/"
        },
        "id": "6OPp4E0cVTij",
        "outputId": "e4d4b2a0-dfd0-4b7c-8b33-632d1fac5ed5"
      },
      "execution_count": 121,
      "outputs": [
        {
          "output_type": "stream",
          "name": "stdout",
          "text": [
            "     sepal length (cm)  sepal width (cm)  petal length (cm)  petal width (cm)  \\\n",
            "0                  5.4               3.1                3.0              0.49   \n",
            "1                  5.5               2.3                4.7              1.39   \n",
            "2                  6.7               2.9                4.8              1.85   \n",
            "3                  6.9               3.1                4.9              1.87   \n",
            "4                  4.9               3.2                1.1              0.18   \n",
            "..                 ...               ...                ...               ...   \n",
            "245                5.7               3.1                4.6              1.23   \n",
            "246                6.6               3.6                5.2              1.88   \n",
            "247                4.3               2.9                1.1              0.14   \n",
            "248                6.3               3.0                4.7              1.79   \n",
            "249                6.7               2.9                5.9              2.37   \n",
            "\n",
            "     target    Set  \n",
            "0       0.0  train  \n",
            "1       2.0   test  \n",
            "2       2.0  train  \n",
            "3       2.0  train  \n",
            "4       0.0  train  \n",
            "..      ...    ...  \n",
            "245     1.0  train  \n",
            "246     1.0  train  \n",
            "247     0.0  train  \n",
            "248     2.0  train  \n",
            "249     2.0  train  \n",
            "\n",
            "[250 rows x 6 columns]\n"
          ]
        }
      ]
    },
    {
      "cell_type": "code",
      "source": [
        "categorical_columns = []\n",
        "categorical_dims =  {}\n",
        "for col in train.columns[train.dtypes == object]:\n",
        "    print(col, train[col].nunique())\n",
        "    l_enc = LabelEncoder()\n",
        "    train[col] = train[col].fillna(\"VV_likely\")\n",
        "    train[col] = l_enc.fit_transform(train[col].values)\n",
        "    categorical_columns.append(col)\n",
        "    categorical_dims[col] = len(l_enc.classes_)\n",
        "\n",
        "for col in train.columns[train.dtypes == 'float64']:\n",
        "    train.fillna(train.loc[train_indices, col].mean(), inplace=True)\n",
        "    print(col)\n",
        "\n",
        "print(train)\n",
        "print(categorical_columns)\n",
        "print(categorical_dims)"
      ],
      "metadata": {
        "colab": {
          "base_uri": "https://localhost:8080/"
        },
        "id": "trZ16ZxCWpvm",
        "outputId": "fcc2e669-43a2-4ad1-a515-354ae349d0b2"
      },
      "execution_count": 122,
      "outputs": [
        {
          "output_type": "stream",
          "name": "stdout",
          "text": [
            "Set 3\n",
            "sepal length (cm)\n",
            "sepal width (cm)\n",
            "petal length (cm)\n",
            "petal width (cm)\n",
            "target\n",
            "     sepal length (cm)  sepal width (cm)  petal length (cm)  petal width (cm)  \\\n",
            "0                  5.4               3.1                3.0              0.49   \n",
            "1                  5.5               2.3                4.7              1.39   \n",
            "2                  6.7               2.9                4.8              1.85   \n",
            "3                  6.9               3.1                4.9              1.87   \n",
            "4                  4.9               3.2                1.1              0.18   \n",
            "..                 ...               ...                ...               ...   \n",
            "245                5.7               3.1                4.6              1.23   \n",
            "246                6.6               3.6                5.2              1.88   \n",
            "247                4.3               2.9                1.1              0.14   \n",
            "248                6.3               3.0                4.7              1.79   \n",
            "249                6.7               2.9                5.9              2.37   \n",
            "\n",
            "     target  Set  \n",
            "0       0.0    1  \n",
            "1       2.0    0  \n",
            "2       2.0    1  \n",
            "3       2.0    1  \n",
            "4       0.0    1  \n",
            "..      ...  ...  \n",
            "245     1.0    1  \n",
            "246     1.0    1  \n",
            "247     0.0    1  \n",
            "248     2.0    1  \n",
            "249     2.0    1  \n",
            "\n",
            "[250 rows x 6 columns]\n",
            "['Set']\n",
            "{'Set': 3}\n"
          ]
        }
      ]
    },
    {
      "cell_type": "code",
      "source": [
        "unused_feat = ['Set']\n",
        "target = \"target\"\n",
        "\n",
        "features = [ col for col in train.columns if col not in unused_feat+[target]]\n",
        "\n",
        "cat_idxs = [ i for i, f in enumerate(features) if f in categorical_columns]\n",
        "\n",
        "cat_dims = [ categorical_dims[f] for i, f in enumerate(features) if f in categorical_columns]\n",
        "\n",
        "cat_emb_dim = []\n",
        "\n",
        "print(features)\n",
        "print(cat_idxs)\n",
        "print(cat_dims)"
      ],
      "metadata": {
        "colab": {
          "base_uri": "https://localhost:8080/"
        },
        "id": "foqJqWX6aeAt",
        "outputId": "9ddb4456-ed49-4eb9-b7c2-4670a35baa14"
      },
      "execution_count": 123,
      "outputs": [
        {
          "output_type": "stream",
          "name": "stdout",
          "text": [
            "['sepal length (cm)', 'sepal width (cm)', 'petal length (cm)', 'petal width (cm)']\n",
            "[]\n",
            "[]\n"
          ]
        }
      ]
    },
    {
      "cell_type": "code",
      "source": [
        "clf = TabNetRegressor(cat_dims=cat_dims, cat_emb_dim=cat_emb_dim, cat_idxs=cat_idxs, optimizer_fn=torch.optim.SGD, optimizer_params=dict(lr=5e-2))"
      ],
      "metadata": {
        "colab": {
          "base_uri": "https://localhost:8080/"
        },
        "id": "UH2kPoUppFSC",
        "outputId": "2c917b57-7889-40fe-9e00-e46ad22c092f"
      },
      "execution_count": 181,
      "outputs": [
        {
          "output_type": "stream",
          "name": "stderr",
          "text": [
            "/usr/local/lib/python3.10/dist-packages/pytorch_tabnet/abstract_model.py:82: UserWarning: Device used : cpu\n",
            "  warnings.warn(f\"Device used : {self.device}\")\n"
          ]
        }
      ]
    },
    {
      "cell_type": "code",
      "source": [
        "X_train = train[features].values[train_indices]\n",
        "y_train = train[target].values[train_indices].reshape(-1, 1)\n",
        "\n",
        "X_valid = train[features].values[valid_indices]\n",
        "y_valid = train[target].values[valid_indices].reshape(-1, 1)\n",
        "\n",
        "X_test = train[features].values[test_indices]\n",
        "y_test = train[target].values[test_indices].reshape(-1, 1)\n",
        "\n",
        "max_epochs = 250\n",
        "from pytorch_tabnet.augmentations import RegressionSMOTE\n",
        "aug = RegressionSMOTE(p=0.2)"
      ],
      "metadata": {
        "id": "c4wAsFIvpPgF"
      },
      "execution_count": 183,
      "outputs": []
    },
    {
      "cell_type": "code",
      "source": [
        "clf.fit(\n",
        "    X_train=X_train, y_train=y_train,\n",
        "    eval_set=[(X_train, y_train), (X_valid, y_valid)],\n",
        "    eval_name=['train', 'valid'],\n",
        "    eval_metric=['rmsle', 'mae', 'rmse', 'mse'],\n",
        "    max_epochs=max_epochs,\n",
        "    patience=50,\n",
        "    batch_size=1024, virtual_batch_size=128,\n",
        "    num_workers=0,\n",
        "    drop_last=False,\n",
        "    augmentations=aug,\n",
        ")\n",
        "\n",
        "preds = clf.predict(X_test)\n",
        "\n",
        "y_true = y_test\n",
        "\n",
        "test_score = mean_squared_error(y_pred=preds, y_true=y_true)\n",
        "dataset_name = \"iris\"\n",
        "\n",
        "print(f\"BEST VALID SCORE FOR {dataset_name} : {clf.best_cost}\")\n",
        "print(f\"FINAL TEST SCORE FOR {dataset_name} : {test_score}\")"
      ],
      "metadata": {
        "colab": {
          "base_uri": "https://localhost:8080/"
        },
        "id": "rbON8pjMpeZW",
        "outputId": "986d22e1-b4b2-4e39-dd87-cdf5e1a20586"
      },
      "execution_count": 184,
      "outputs": [
        {
          "output_type": "stream",
          "name": "stdout",
          "text": [
            "epoch 0  | loss: 2.4157  | train_rmsle: 1.5483  | train_mae: 10.73273| train_rmse: 13.29407| train_mse: 176.73242| valid_rmsle: 1.61919 | valid_mae: 10.93686| valid_rmse: 13.70436| valid_mse: 187.80961|  0:00:00s\n",
            "epoch 1  | loss: 1.9852  | train_rmsle: 1.46984 | train_mae: 9.15016 | train_rmse: 11.94048| train_mse: 142.57512| valid_rmsle: 1.40363 | valid_mae: 8.26012 | valid_rmse: 11.4387 | valid_mse: 130.84392|  0:00:00s\n",
            "epoch 2  | loss: 1.87897 | train_rmsle: 1.50967 | train_mae: 8.70589 | train_rmse: 11.62412| train_mse: 135.12018| valid_rmsle: 1.56495 | valid_mae: 9.16898 | valid_rmse: 12.12232| valid_mse: 146.95071|  0:00:00s\n",
            "epoch 3  | loss: 1.53767 | train_rmsle: 1.72419 | train_mae: 9.759   | train_rmse: 12.25019| train_mse: 150.06725| valid_rmsle: 1.59293 | valid_mae: 9.18977 | valid_rmse: 12.05926| valid_mse: 145.42565|  0:00:00s\n",
            "epoch 4  | loss: 1.42632 | train_rmsle: 1.75719 | train_mae: 9.69268 | train_rmse: 12.1959 | train_mse: 148.73995| valid_rmsle: 1.64764 | valid_mae: 9.68805 | valid_rmse: 12.45633| valid_mse: 155.1602|  0:00:00s\n",
            "epoch 5  | loss: 1.21454 | train_rmsle: 1.75298 | train_mae: 9.5641  | train_rmse: 11.99384| train_mse: 143.85216| valid_rmsle: 1.66375 | valid_mae: 9.86719 | valid_rmse: 12.55345| valid_mse: 157.58918|  0:00:00s\n",
            "epoch 6  | loss: 1.13005 | train_rmsle: 1.7611  | train_mae: 9.63905 | train_rmse: 11.95073| train_mse: 142.8199| valid_rmsle: 1.69776 | valid_mae: 10.0234 | valid_rmse: 12.55897| valid_mse: 157.72773|  0:00:00s\n",
            "epoch 7  | loss: 0.9687  | train_rmsle: 1.7858  | train_mae: 9.86514 | train_rmse: 12.17017| train_mse: 148.11305| valid_rmsle: 1.73194 | valid_mae: 10.39078| valid_rmse: 12.878  | valid_mse: 165.84295|  0:00:00s\n",
            "epoch 8  | loss: 0.88687 | train_rmsle: 1.77839 | train_mae: 9.72429 | train_rmse: 11.97907| train_mse: 143.4982| valid_rmsle: 1.65913 | valid_mae: 9.60834 | valid_rmse: 12.25604| valid_mse: 150.21044|  0:00:00s\n",
            "epoch 9  | loss: 0.83205 | train_rmsle: 1.73623 | train_mae: 9.48709 | train_rmse: 11.80086| train_mse: 139.26038| valid_rmsle: 1.67242 | valid_mae: 9.56861 | valid_rmse: 12.17469| valid_mse: 148.22304|  0:00:00s\n",
            "epoch 10 | loss: 0.74145 | train_rmsle: 1.63856 | train_mae: 8.73969 | train_rmse: 11.12146| train_mse: 123.68689| valid_rmsle: 1.68726 | valid_mae: 9.87312 | valid_rmse: 12.21688| valid_mse: 149.25204|  0:00:00s\n",
            "epoch 11 | loss: 0.64268 | train_rmsle: 1.61171 | train_mae: 8.36276 | train_rmse: 10.49379| train_mse: 110.11972| valid_rmsle: 1.64389 | valid_mae: 9.39832 | valid_rmse: 11.80405| valid_mse: 139.3356|  0:00:00s\n",
            "epoch 12 | loss: 0.59215 | train_rmsle: 1.64161 | train_mae: 8.52945 | train_rmse: 10.5511 | train_mse: 111.32568| valid_rmsle: 1.65665 | valid_mae: 9.45273 | valid_rmse: 11.69231| valid_mse: 136.71021|  0:00:00s\n",
            "epoch 13 | loss: 0.55801 | train_rmsle: 1.6137  | train_mae: 8.09741 | train_rmse: 9.95051 | train_mse: 99.01267| valid_rmsle: 1.63359 | valid_mae: 9.15284 | valid_rmse: 11.31795| valid_mse: 128.09591|  0:00:00s\n",
            "epoch 14 | loss: 0.56742 | train_rmsle: 1.59236 | train_mae: 7.92714 | train_rmse: 9.77698 | train_mse: 95.58931| valid_rmsle: 1.62021 | valid_mae: 9.04383 | valid_rmse: 11.23648| valid_mse: 126.25842|  0:00:00s\n",
            "epoch 15 | loss: 0.43262 | train_rmsle: 1.58598 | train_mae: 8.09248 | train_rmse: 10.01881| train_mse: 100.37665| valid_rmsle: 1.63317 | valid_mae: 9.25141 | valid_rmse: 11.43561| valid_mse: 130.77319|  0:00:00s\n",
            "epoch 16 | loss: 0.40804 | train_rmsle: 1.53743 | train_mae: 7.47439 | train_rmse: 9.21068 | train_mse: 84.83654| valid_rmsle: 1.57463 | valid_mae: 8.44116 | valid_rmse: 10.62484| valid_mse: 112.88732|  0:00:00s\n",
            "epoch 17 | loss: 0.34288 | train_rmsle: 1.47735 | train_mae: 6.95595 | train_rmse: 8.75076 | train_mse: 76.57586| valid_rmsle: 1.56298 | valid_mae: 8.44433 | valid_rmse: 10.70262| valid_mse: 114.54607|  0:00:00s\n",
            "epoch 18 | loss: 0.3557  | train_rmsle: 1.38496 | train_mae: 5.98505 | train_rmse: 7.4801  | train_mse: 55.95183| valid_rmsle: 1.56289 | valid_mae: 8.00369 | valid_rmse: 9.9775  | valid_mse: 99.5505 |  0:00:00s\n",
            "epoch 19 | loss: 0.32715 | train_rmsle: 1.37998 | train_mae: 5.78146 | train_rmse: 7.22027 | train_mse: 52.13226| valid_rmsle: 1.53631 | valid_mae: 7.76966 | valid_rmse: 9.7718  | valid_mse: 95.48809|  0:00:01s\n",
            "epoch 20 | loss: 0.30631 | train_rmsle: 1.42568 | train_mae: 6.17122 | train_rmse: 7.72172 | train_mse: 59.6249 | valid_rmsle: 1.47988 | valid_mae: 7.46026 | valid_rmse: 9.58769 | valid_mse: 91.92373|  0:00:01s\n",
            "epoch 21 | loss: 0.34037 | train_rmsle: 1.36129 | train_mae: 5.55663 | train_rmse: 6.88497 | train_mse: 47.40287| valid_rmsle: 1.48369 | valid_mae: 7.55786 | valid_rmse: 9.55592 | valid_mse: 91.31555|  0:00:01s\n",
            "epoch 22 | loss: 0.28719 | train_rmsle: 1.36767 | train_mae: 5.56719 | train_rmse: 6.84219 | train_mse: 46.81559| valid_rmsle: 1.47215 | valid_mae: 7.36255 | valid_rmse: 9.38582 | valid_mse: 88.09361|  0:00:01s\n",
            "epoch 23 | loss: 0.26889 | train_rmsle: 1.35168 | train_mae: 5.47665 | train_rmse: 6.70812 | train_mse: 44.99892| valid_rmsle: 1.40367 | valid_mae: 6.90315 | valid_rmse: 9.04988 | valid_mse: 81.90041|  0:00:01s\n",
            "epoch 24 | loss: 0.24736 | train_rmsle: 1.31724 | train_mae: 5.29964 | train_rmse: 6.43219 | train_mse: 41.37309| valid_rmsle: 1.31169 | valid_mae: 5.98567 | valid_rmse: 7.68113 | valid_mse: 58.99982|  0:00:01s\n",
            "epoch 25 | loss: 0.24947 | train_rmsle: 1.266   | train_mae: 4.91185 | train_rmse: 6.00529 | train_mse: 36.06354| valid_rmsle: 1.29667 | valid_mae: 5.93349 | valid_rmse: 7.63284 | valid_mse: 58.26018|  0:00:01s\n",
            "epoch 26 | loss: 0.2384  | train_rmsle: 1.29628 | train_mae: 5.00574 | train_rmse: 6.08    | train_mse: 36.96645| valid_rmsle: 1.31492 | valid_mae: 5.79894 | valid_rmse: 7.39633 | valid_mse: 54.70575|  0:00:01s\n",
            "epoch 27 | loss: 0.24718 | train_rmsle: 1.15266 | train_mae: 4.12458 | train_rmse: 5.12762 | train_mse: 26.2925 | valid_rmsle: 1.30673 | valid_mae: 5.85478 | valid_rmse: 7.43408 | valid_mse: 55.26548|  0:00:01s\n",
            "epoch 28 | loss: 0.208   | train_rmsle: 1.12484 | train_mae: 3.92061 | train_rmse: 4.8718  | train_mse: 23.73444| valid_rmsle: 1.35816 | valid_mae: 5.95509 | valid_rmse: 7.37933 | valid_mse: 54.45448|  0:00:01s\n",
            "epoch 29 | loss: 0.22774 | train_rmsle: 1.07864 | train_mae: 3.62119 | train_rmse: 4.45786 | train_mse: 19.87251| valid_rmsle: 1.31238 | valid_mae: 5.75597 | valid_rmse: 7.21622 | valid_mse: 52.07381|  0:00:01s\n",
            "epoch 30 | loss: 0.19715 | train_rmsle: 1.06441 | train_mae: 3.51697 | train_rmse: 4.3812  | train_mse: 19.19495| valid_rmsle: 1.22036 | valid_mae: 5.20993 | valid_rmse: 6.84425 | valid_mse: 46.84373|  0:00:01s\n",
            "epoch 31 | loss: 0.17811 | train_rmsle: 1.05879 | train_mae: 3.47273 | train_rmse: 4.35138 | train_mse: 18.93449| valid_rmsle: 1.19136 | valid_mae: 5.08905 | valid_rmse: 6.76334 | valid_mse: 45.7428 |  0:00:01s\n",
            "epoch 32 | loss: 0.19948 | train_rmsle: 1.03699 | train_mae: 3.36071 | train_rmse: 4.23914 | train_mse: 17.97034| valid_rmsle: 1.18927 | valid_mae: 5.03202 | valid_rmse: 6.67324 | valid_mse: 44.53215|  0:00:01s\n",
            "epoch 33 | loss: 0.19592 | train_rmsle: 0.99702 | train_mae: 3.06912 | train_rmse: 3.75506 | train_mse: 14.1005 | valid_rmsle: 1.13182 | valid_mae: 4.51909 | valid_rmse: 6.06843 | valid_mse: 36.82588|  0:00:01s\n",
            "epoch 34 | loss: 0.17539 | train_rmsle: 0.92548 | train_mae: 2.80352 | train_rmse: 3.51223 | train_mse: 12.33575| valid_rmsle: 1.09307 | valid_mae: 4.14005 | valid_rmse: 5.49769 | valid_mse: 30.22458|  0:00:01s\n",
            "epoch 35 | loss: 0.19473 | train_rmsle: 0.87194 | train_mae: 2.48454 | train_rmse: 2.91648 | train_mse: 8.50585 | valid_rmsle: 0.92956 | valid_mae: 2.82923 | valid_rmse: 3.26194 | valid_mse: 10.64025|  0:00:01s\n",
            "epoch 36 | loss: 0.18054 | train_rmsle: 0.86176 | train_mae: 2.44439 | train_rmse: 2.88992 | train_mse: 8.35162 | valid_rmsle: 0.8969  | valid_mae: 2.65973 | valid_rmse: 3.02008 | valid_mse: 9.12091 |  0:00:01s\n",
            "epoch 37 | loss: 0.21342 | train_rmsle: 0.83244 | train_mae: 2.33388 | train_rmse: 2.7683  | train_mse: 7.6635  | valid_rmsle: 0.87158 | valid_mae: 2.59518 | valid_rmse: 2.99205 | valid_mse: 8.95238 |  0:00:01s\n",
            "epoch 38 | loss: 0.16942 | train_rmsle: 0.82275 | train_mae: 2.29825 | train_rmse: 2.74604 | train_mse: 7.54072 | valid_rmsle: 0.92665 | valid_mae: 3.0349  | valid_rmse: 4.23934 | valid_mse: 17.97201|  0:00:02s\n",
            "epoch 39 | loss: 0.15143 | train_rmsle: 0.82847 | train_mae: 2.2949  | train_rmse: 2.74665 | train_mse: 7.5441  | valid_rmsle: 0.83442 | valid_mae: 2.57863 | valid_rmse: 3.40923 | valid_mse: 11.62284|  0:00:02s\n",
            "epoch 40 | loss: 0.14086 | train_rmsle: 0.79692 | train_mae: 2.14404 | train_rmse: 2.53329 | train_mse: 6.41758 | valid_rmsle: 0.81686 | valid_mae: 2.52714 | valid_rmse: 3.37631 | valid_mse: 11.39947|  0:00:02s\n",
            "epoch 41 | loss: 0.16583 | train_rmsle: 0.75754 | train_mae: 1.97323 | train_rmse: 2.23928 | train_mse: 5.01437 | valid_rmsle: 0.71454 | valid_mae: 1.99782 | valid_rmse: 2.2716  | valid_mse: 5.16019 |  0:00:02s\n",
            "epoch 42 | loss: 0.18148 | train_rmsle: 0.76855 | train_mae: 2.01152 | train_rmse: 2.27334 | train_mse: 5.16806 | valid_rmsle: 0.72475 | valid_mae: 2.03234 | valid_rmse: 2.29803 | valid_mse: 5.28096 |  0:00:02s\n",
            "epoch 43 | loss: 0.17721 | train_rmsle: 0.74898 | train_mae: 1.93622 | train_rmse: 2.1812  | train_mse: 4.75765 | valid_rmsle: 0.72138 | valid_mae: 2.01701 | valid_rmse: 2.26157 | valid_mse: 5.11468 |  0:00:02s\n",
            "epoch 44 | loss: 0.15415 | train_rmsle: 0.76211 | train_mae: 1.97466 | train_rmse: 2.27585 | train_mse: 5.17951 | valid_rmsle: 0.72441 | valid_mae: 2.0341  | valid_rmse: 2.27579 | valid_mse: 5.17923 |  0:00:02s\n",
            "epoch 45 | loss: 0.15039 | train_rmsle: 0.73311 | train_mae: 1.85202 | train_rmse: 2.09259 | train_mse: 4.37894 | valid_rmsle: 0.70534 | valid_mae: 1.94881 | valid_rmse: 2.1832  | valid_mse: 4.76636 |  0:00:02s\n",
            "epoch 46 | loss: 0.15737 | train_rmsle: 0.71921 | train_mae: 1.77143 | train_rmse: 2.02534 | train_mse: 4.102   | valid_rmsle: 0.68559 | valid_mae: 1.85867 | valid_rmse: 2.0855  | valid_mse: 4.3493  |  0:00:02s\n",
            "epoch 47 | loss: 0.17095 | train_rmsle: 0.72788 | train_mae: 1.78416 | train_rmse: 2.04778 | train_mse: 4.19338 | valid_rmsle: 0.6854  | valid_mae: 1.83592 | valid_rmse: 2.04057 | valid_mse: 4.16392 |  0:00:02s\n",
            "epoch 48 | loss: 0.15639 | train_rmsle: 0.70553 | train_mae: 1.69391 | train_rmse: 1.94384 | train_mse: 3.77852 | valid_rmsle: 0.67058 | valid_mae: 1.77675 | valid_rmse: 1.98403 | valid_mse: 3.93639 |  0:00:02s\n",
            "epoch 49 | loss: 0.16454 | train_rmsle: 0.70693 | train_mae: 1.70396 | train_rmse: 1.94243 | train_mse: 3.77304 | valid_rmsle: 0.67069 | valid_mae: 1.78434 | valid_rmse: 1.98675 | valid_mse: 3.94716 |  0:00:02s\n",
            "epoch 50 | loss: 0.1775  | train_rmsle: 0.69482 | train_mae: 1.67796 | train_rmse: 1.92132 | train_mse: 3.69146 | valid_rmsle: 0.65948 | valid_mae: 1.73135 | valid_rmse: 1.91917 | valid_mse: 3.68322 |  0:00:02s\n",
            "epoch 51 | loss: 0.17083 | train_rmsle: 0.69211 | train_mae: 1.68414 | train_rmse: 1.94204 | train_mse: 3.77152 | valid_rmsle: 0.65436 | valid_mae: 1.72953 | valid_rmse: 1.92066 | valid_mse: 3.68894 |  0:00:02s\n",
            "epoch 52 | loss: 0.15527 | train_rmsle: 0.68823 | train_mae: 1.66333 | train_rmse: 1.91903 | train_mse: 3.68266 | valid_rmsle: 0.65144 | valid_mae: 1.71483 | valid_rmse: 1.90914 | valid_mse: 3.64482 |  0:00:02s\n",
            "epoch 53 | loss: 0.20322 | train_rmsle: 0.69457 | train_mae: 1.69766 | train_rmse: 1.97997 | train_mse: 3.92027 | valid_rmsle: 0.65311 | valid_mae: 1.73893 | valid_rmse: 1.94002 | valid_mse: 3.76368 |  0:00:02s\n",
            "epoch 54 | loss: 0.1578  | train_rmsle: 0.69877 | train_mae: 1.71482 | train_rmse: 2.00206 | train_mse: 4.00826 | valid_rmsle: 0.64322 | valid_mae: 1.71276 | valid_rmse: 1.91368 | valid_mse: 3.66217 |  0:00:02s\n",
            "epoch 55 | loss: 0.15629 | train_rmsle: 0.69697 | train_mae: 1.72324 | train_rmse: 2.02349 | train_mse: 4.09452 | valid_rmsle: 0.65782 | valid_mae: 1.73734 | valid_rmse: 1.92717 | valid_mse: 3.71397 |  0:00:02s\n",
            "epoch 56 | loss: 0.15291 | train_rmsle: 0.64581 | train_mae: 1.5347  | train_rmse: 1.78529 | train_mse: 3.18724 | valid_rmsle: 0.60761 | valid_mae: 1.59062 | valid_rmse: 1.79238 | valid_mse: 3.21262 |  0:00:02s\n",
            "epoch 57 | loss: 0.16596 | train_rmsle: 0.65112 | train_mae: 1.55774 | train_rmse: 1.82587 | train_mse: 3.3338  | valid_rmsle: 0.62217 | valid_mae: 1.62253 | valid_rmse: 1.81207 | valid_mse: 3.28358 |  0:00:03s\n",
            "epoch 58 | loss: 0.12848 | train_rmsle: 0.66592 | train_mae: 1.62473 | train_rmse: 1.9024  | train_mse: 3.61912 | valid_rmsle: 0.6437  | valid_mae: 1.6916  | valid_rmse: 1.88757 | valid_mse: 3.56291 |  0:00:03s\n",
            "epoch 59 | loss: 0.15232 | train_rmsle: 0.64286 | train_mae: 1.54357 | train_rmse: 1.80401 | train_mse: 3.25444 | valid_rmsle: 0.63247 | valid_mae: 1.64429 | valid_rmse: 1.83683 | valid_mse: 3.37393 |  0:00:03s\n",
            "epoch 60 | loss: 0.16347 | train_rmsle: 0.66955 | train_mae: 1.6381  | train_rmse: 1.98506 | train_mse: 3.94047 | valid_rmsle: 0.60476 | valid_mae: 1.58309 | valid_rmse: 1.78487 | valid_mse: 3.18576 |  0:00:03s\n",
            "epoch 61 | loss: 0.1535  | train_rmsle: 0.65053 | train_mae: 1.57152 | train_rmse: 1.85653 | train_mse: 3.44669 | valid_rmsle: 0.61326 | valid_mae: 1.5871  | valid_rmse: 1.78293 | valid_mse: 3.17883 |  0:00:03s\n",
            "epoch 62 | loss: 0.1189  | train_rmsle: 0.61912 | train_mae: 1.46044 | train_rmse: 1.71137 | train_mse: 2.92878 | valid_rmsle: 0.61281 | valid_mae: 1.57641 | valid_rmse: 1.7617  | valid_mse: 3.10359 |  0:00:03s\n",
            "epoch 63 | loss: 0.13895 | train_rmsle: 0.60836 | train_mae: 1.42226 | train_rmse: 1.67825 | train_mse: 2.81651 | valid_rmsle: 0.59007 | valid_mae: 1.51588 | valid_rmse: 1.70417 | valid_mse: 2.9042  |  0:00:03s\n",
            "epoch 64 | loss: 0.15169 | train_rmsle: 0.61331 | train_mae: 1.44583 | train_rmse: 1.6851  | train_mse: 2.83957 | valid_rmsle: 0.58292 | valid_mae: 1.51006 | valid_rmse: 1.70412 | valid_mse: 2.90404 |  0:00:03s\n",
            "epoch 65 | loss: 0.14556 | train_rmsle: 0.61241 | train_mae: 1.4423  | train_rmse: 1.67592 | train_mse: 2.80869 | valid_rmsle: 0.5826  | valid_mae: 1.51301 | valid_rmse: 1.71067 | valid_mse: 2.92638 |  0:00:03s\n",
            "epoch 66 | loss: 0.16991 | train_rmsle: 0.57758 | train_mae: 1.30664 | train_rmse: 1.52345 | train_mse: 2.32089 | valid_rmsle: 0.55455 | valid_mae: 1.39315 | valid_rmse: 1.57286 | valid_mse: 2.47388 |  0:00:03s\n",
            "epoch 67 | loss: 0.17222 | train_rmsle: 0.57209 | train_mae: 1.29664 | train_rmse: 1.52429 | train_mse: 2.32345 | valid_rmsle: 0.54194 | valid_mae: 1.36226 | valid_rmse: 1.54774 | valid_mse: 2.39551 |  0:00:03s\n",
            "epoch 68 | loss: 0.13458 | train_rmsle: 0.56806 | train_mae: 1.28083 | train_rmse: 1.52243 | train_mse: 2.31781 | valid_rmsle: 0.52832 | valid_mae: 1.31498 | valid_rmse: 1.4959  | valid_mse: 2.23772 |  0:00:03s\n",
            "epoch 69 | loss: 0.13905 | train_rmsle: 0.5663  | train_mae: 1.27237 | train_rmse: 1.5093  | train_mse: 2.27798 | valid_rmsle: 0.52738 | valid_mae: 1.30577 | valid_rmse: 1.48267 | valid_mse: 2.19832 |  0:00:03s\n",
            "epoch 70 | loss: 0.13226 | train_rmsle: 0.56908 | train_mae: 1.2862  | train_rmse: 1.52146 | train_mse: 2.31483 | valid_rmsle: 0.53103 | valid_mae: 1.32097 | valid_rmse: 1.50078 | valid_mse: 2.25234 |  0:00:03s\n",
            "epoch 71 | loss: 0.14281 | train_rmsle: 0.57633 | train_mae: 1.32396 | train_rmse: 1.55977 | train_mse: 2.43288 | valid_rmsle: 0.54064 | valid_mae: 1.36619 | valid_rmse: 1.55556 | valid_mse: 2.41976 |  0:00:03s\n",
            "epoch 72 | loss: 0.14454 | train_rmsle: 0.55807 | train_mae: 1.26077 | train_rmse: 1.50444 | train_mse: 2.26335 | valid_rmsle: 0.52017 | valid_mae: 1.2939  | valid_rmse: 1.47913 | valid_mse: 2.18781 |  0:00:03s\n",
            "epoch 73 | loss: 0.1524  | train_rmsle: 0.5359  | train_mae: 1.1845  | train_rmse: 1.42146 | train_mse: 2.02055 | valid_rmsle: 0.49408 | valid_mae: 1.2054  | valid_rmse: 1.38462 | valid_mse: 1.91717 |  0:00:03s\n",
            "epoch 74 | loss: 0.13565 | train_rmsle: 0.53202 | train_mae: 1.16889 | train_rmse: 1.39524 | train_mse: 1.9467  | valid_rmsle: 0.49133 | valid_mae: 1.18853 | valid_rmse: 1.36516 | valid_mse: 1.86365 |  0:00:03s\n",
            "epoch 75 | loss: 0.1436  | train_rmsle: 0.53135 | train_mae: 1.15731 | train_rmse: 1.37895 | train_mse: 1.9015  | valid_rmsle: 0.48833 | valid_mae: 1.16761 | valid_rmse: 1.33746 | valid_mse: 1.7888  |  0:00:03s\n",
            "epoch 76 | loss: 0.12912 | train_rmsle: 0.53318 | train_mae: 1.16    | train_rmse: 1.38249 | train_mse: 1.91128 | valid_rmsle: 0.491   | valid_mae: 1.16344 | valid_rmse: 1.33106 | valid_mse: 1.77171 |  0:00:04s\n",
            "epoch 77 | loss: 0.13905 | train_rmsle: 0.51501 | train_mae: 1.09401 | train_rmse: 1.30866 | train_mse: 1.71258 | valid_rmsle: 0.47349 | valid_mae: 1.08831 | valid_rmse: 1.24341 | valid_mse: 1.54608 |  0:00:04s\n",
            "epoch 78 | loss: 0.13886 | train_rmsle: 0.51842 | train_mae: 1.10366 | train_rmse: 1.3007  | train_mse: 1.69181 | valid_rmsle: 0.47866 | valid_mae: 1.10052 | valid_rmse: 1.26068 | valid_mse: 1.58931 |  0:00:04s\n",
            "epoch 79 | loss: 0.12183 | train_rmsle: 0.51685 | train_mae: 1.08587 | train_rmse: 1.29704 | train_mse: 1.68232 | valid_rmsle: 0.4701  | valid_mae: 1.05923 | valid_rmse: 1.20943 | valid_mse: 1.46273 |  0:00:04s\n",
            "epoch 80 | loss: 0.15291 | train_rmsle: 0.52222 | train_mae: 1.11152 | train_rmse: 1.30986 | train_mse: 1.71574 | valid_rmsle: 0.47929 | valid_mae: 1.09828 | valid_rmse: 1.25862 | valid_mse: 1.58413 |  0:00:04s\n",
            "epoch 81 | loss: 0.13699 | train_rmsle: 0.51793 | train_mae: 1.10296 | train_rmse: 1.31504 | train_mse: 1.72933 | valid_rmsle: 0.4701  | valid_mae: 1.0783  | valid_rmse: 1.23794 | valid_mse: 1.53251 |  0:00:04s\n",
            "epoch 82 | loss: 0.13052 | train_rmsle: 0.51777 | train_mae: 1.10121 | train_rmse: 1.31015 | train_mse: 1.71649 | valid_rmsle: 0.473   | valid_mae: 1.08236 | valid_rmse: 1.24211 | valid_mse: 1.54283 |  0:00:04s\n",
            "epoch 83 | loss: 0.11592 | train_rmsle: 0.50607 | train_mae: 1.05934 | train_rmse: 1.26004 | train_mse: 1.58771 | valid_rmsle: 0.46322 | valid_mae: 1.04025 | valid_rmse: 1.19657 | valid_mse: 1.43178 |  0:00:04s\n",
            "epoch 84 | loss: 0.13906 | train_rmsle: 0.48125 | train_mae: 0.98218 | train_rmse: 1.15808 | train_mse: 1.34114 | valid_rmsle: 0.44527 | valid_mae: 0.9706  | valid_rmse: 1.12482 | valid_mse: 1.26522 |  0:00:05s\n",
            "epoch 85 | loss: 0.13386 | train_rmsle: 0.48436 | train_mae: 0.98844 | train_rmse: 1.19323 | train_mse: 1.42379 | valid_rmsle: 0.43599 | valid_mae: 0.94853 | valid_rmse: 1.10246 | valid_mse: 1.21542 |  0:00:05s\n",
            "epoch 86 | loss: 0.15011 | train_rmsle: 0.48268 | train_mae: 0.98425 | train_rmse: 1.18576 | train_mse: 1.40604 | valid_rmsle: 0.43252 | valid_mae: 0.93927 | valid_rmse: 1.09817 | valid_mse: 1.20599 |  0:00:05s\n",
            "epoch 87 | loss: 0.12147 | train_rmsle: 0.47391 | train_mae: 0.95424 | train_rmse: 1.17014 | train_mse: 1.36922 | valid_rmsle: 0.42123 | valid_mae: 0.90005 | valid_rmse: 1.05661 | valid_mse: 1.11643 |  0:00:05s\n",
            "epoch 88 | loss: 0.13088 | train_rmsle: 0.46161 | train_mae: 0.91006 | train_rmse: 1.10064 | train_mse: 1.21142 | valid_rmsle: 0.41161 | valid_mae: 0.86039 | valid_rmse: 1.00926 | valid_mse: 1.01861 |  0:00:05s\n",
            "epoch 89 | loss: 0.12988 | train_rmsle: 0.46057 | train_mae: 0.90988 | train_rmse: 1.10826 | train_mse: 1.22825 | valid_rmsle: 0.40823 | valid_mae: 0.85525 | valid_rmse: 1.00609 | valid_mse: 1.01222 |  0:00:05s\n",
            "epoch 90 | loss: 0.13408 | train_rmsle: 0.44153 | train_mae: 0.84967 | train_rmse: 1.04335 | train_mse: 1.08857 | valid_rmsle: 0.38287 | valid_mae: 0.77502 | valid_rmse: 0.91988 | valid_mse: 0.84617 |  0:00:05s\n",
            "epoch 91 | loss: 0.13863 | train_rmsle: 0.44188 | train_mae: 0.85132 | train_rmse: 1.05288 | train_mse: 1.10855 | valid_rmsle: 0.38501 | valid_mae: 0.78202 | valid_rmse: 0.92692 | valid_mse: 0.85918 |  0:00:05s\n",
            "epoch 92 | loss: 0.12016 | train_rmsle: 0.44265 | train_mae: 0.8574  | train_rmse: 1.05886 | train_mse: 1.12119 | valid_rmsle: 0.38405 | valid_mae: 0.78549 | valid_rmse: 0.93238 | valid_mse: 0.86934 |  0:00:05s\n",
            "epoch 93 | loss: 0.13035 | train_rmsle: 0.43282 | train_mae: 0.82498 | train_rmse: 1.02661 | train_mse: 1.05393 | valid_rmsle: 0.37395 | valid_mae: 0.75353 | valid_rmse: 0.89723 | valid_mse: 0.80502 |  0:00:05s\n",
            "epoch 94 | loss: 0.13009 | train_rmsle: 0.43079 | train_mae: 0.81477 | train_rmse: 1.02315 | train_mse: 1.04683 | valid_rmsle: 0.39357 | valid_mae: 0.79108 | valid_rmse: 0.98837 | valid_mse: 0.97688 |  0:00:05s\n",
            "epoch 95 | loss: 0.12087 | train_rmsle: 0.44403 | train_mae: 0.85158 | train_rmse: 1.05873 | train_mse: 1.12091 | valid_rmsle: 0.40715 | valid_mae: 0.83431 | valid_rmse: 1.03018 | valid_mse: 1.06127 |  0:00:05s\n",
            "epoch 96 | loss: 0.12472 | train_rmsle: 0.4416  | train_mae: 0.83914 | train_rmse: 1.04904 | train_mse: 1.10049 | valid_rmsle: 0.4074  | valid_mae: 0.82949 | valid_rmse: 1.03501 | valid_mse: 1.07124 |  0:00:05s\n",
            "epoch 97 | loss: 0.11304 | train_rmsle: 0.4342  | train_mae: 0.81604 | train_rmse: 1.0273  | train_mse: 1.05535 | valid_rmsle: 0.39877 | valid_mae: 0.80487 | valid_rmse: 1.00899 | valid_mse: 1.01806 |  0:00:05s\n",
            "epoch 98 | loss: 0.15154 | train_rmsle: 0.42199 | train_mae: 0.77815 | train_rmse: 0.96668 | train_mse: 0.93448 | valid_rmsle: 0.36395 | valid_mae: 0.71115 | valid_rmse: 0.84784 | valid_mse: 0.71884 |  0:00:05s\n",
            "epoch 99 | loss: 0.14083 | train_rmsle: 0.40525 | train_mae: 0.73027 | train_rmse: 0.91644 | train_mse: 0.83985 | valid_rmsle: 0.34316 | valid_mae: 0.64697 | valid_rmse: 0.77879 | valid_mse: 0.60651 |  0:00:05s\n",
            "epoch 100| loss: 0.13438 | train_rmsle: 0.40311 | train_mae: 0.71851 | train_rmse: 0.8969  | train_mse: 0.80442 | valid_rmsle: 0.34011 | valid_mae: 0.63237 | valid_rmse: 0.76088 | valid_mse: 0.57895 |  0:00:05s\n",
            "epoch 101| loss: 0.11522 | train_rmsle: 0.40196 | train_mae: 0.70727 | train_rmse: 0.88543 | train_mse: 0.78398 | valid_rmsle: 0.33542 | valid_mae: 0.61259 | valid_rmse: 0.73869 | valid_mse: 0.54567 |  0:00:05s\n",
            "epoch 102| loss: 0.13298 | train_rmsle: 0.40984 | train_mae: 0.73124 | train_rmse: 0.91404 | train_mse: 0.83548 | valid_rmsle: 0.3447  | valid_mae: 0.64916 | valid_rmse: 0.78061 | valid_mse: 0.60936 |  0:00:06s\n",
            "epoch 103| loss: 0.1228  | train_rmsle: 0.40242 | train_mae: 0.70369 | train_rmse: 0.8835  | train_mse: 0.78057 | valid_rmsle: 0.33693 | valid_mae: 0.61965 | valid_rmse: 0.74803 | valid_mse: 0.55955 |  0:00:06s\n",
            "epoch 104| loss: 0.13135 | train_rmsle: 0.40046 | train_mae: 0.69446 | train_rmse: 0.87627 | train_mse: 0.76784 | valid_rmsle: 0.33358 | valid_mae: 0.60643 | valid_rmse: 0.73462 | valid_mse: 0.53966 |  0:00:06s\n",
            "epoch 105| loss: 0.12203 | train_rmsle: 0.39468 | train_mae: 0.67671 | train_rmse: 0.86133 | train_mse: 0.74189 | valid_rmsle: 0.3272  | valid_mae: 0.59037 | valid_rmse: 0.71946 | valid_mse: 0.51762 |  0:00:06s\n",
            "epoch 106| loss: 0.12141 | train_rmsle: 0.39316 | train_mae: 0.67281 | train_rmse: 0.86008 | train_mse: 0.73974 | valid_rmsle: 0.32281 | valid_mae: 0.58607 | valid_rmse: 0.71257 | valid_mse: 0.50776 |  0:00:06s\n",
            "epoch 107| loss: 0.12439 | train_rmsle: 0.3914  | train_mae: 0.66445 | train_rmse: 0.85029 | train_mse: 0.723   | valid_rmsle: 0.3338  | valid_mae: 0.59971 | valid_rmse: 0.77046 | valid_mse: 0.59361 |  0:00:06s\n",
            "epoch 108| loss: 0.12374 | train_rmsle: 0.39981 | train_mae: 0.68692 | train_rmse: 0.882   | train_mse: 0.77792 | valid_rmsle: 0.34268 | valid_mae: 0.62442 | valid_rmse: 0.80818 | valid_mse: 0.65315 |  0:00:06s\n",
            "epoch 109| loss: 0.13747 | train_rmsle: 0.39748 | train_mae: 0.68344 | train_rmse: 0.88283 | train_mse: 0.77939 | valid_rmsle: 0.33795 | valid_mae: 0.61349 | valid_rmse: 0.79472 | valid_mse: 0.63158 |  0:00:06s\n",
            "epoch 110| loss: 0.12278 | train_rmsle: 0.40381 | train_mae: 0.70624 | train_rmse: 0.8956  | train_mse: 0.80209 | valid_rmsle: 0.34381 | valid_mae: 0.62844 | valid_rmse: 0.81419 | valid_mse: 0.66291 |  0:00:06s\n",
            "epoch 111| loss: 0.1103  | train_rmsle: 0.40381 | train_mae: 0.70577 | train_rmse: 0.89271 | train_mse: 0.79693 | valid_rmsle: 0.34588 | valid_mae: 0.62938 | valid_rmse: 0.81788 | valid_mse: 0.66893 |  0:00:06s\n",
            "epoch 112| loss: 0.11295 | train_rmsle: 0.40002 | train_mae: 0.68695 | train_rmse: 0.87753 | train_mse: 0.77005 | valid_rmsle: 0.33938 | valid_mae: 0.60025 | valid_rmse: 0.78662 | valid_mse: 0.61876 |  0:00:06s\n",
            "epoch 113| loss: 0.12026 | train_rmsle: 0.39635 | train_mae: 0.67422 | train_rmse: 0.85782 | train_mse: 0.73586 | valid_rmsle: 0.33575 | valid_mae: 0.58627 | valid_rmse: 0.77359 | valid_mse: 0.59844 |  0:00:06s\n",
            "epoch 114| loss: 0.12337 | train_rmsle: 0.40127 | train_mae: 0.68199 | train_rmse: 0.87395 | train_mse: 0.76379 | valid_rmsle: 0.33516 | valid_mae: 0.57866 | valid_rmse: 0.77199 | valid_mse: 0.59597 |  0:00:06s\n",
            "epoch 115| loss: 0.14038 | train_rmsle: 0.39943 | train_mae: 0.67632 | train_rmse: 0.86404 | train_mse: 0.74656 | valid_rmsle: 0.33191 | valid_mae: 0.5696  | valid_rmse: 0.76557 | valid_mse: 0.58609 |  0:00:06s\n",
            "epoch 116| loss: 0.11369 | train_rmsle: 0.39714 | train_mae: 0.66128 | train_rmse: 0.85115 | train_mse: 0.72445 | valid_rmsle: 0.32759 | valid_mae: 0.55118 | valid_rmse: 0.74572 | valid_mse: 0.55609 |  0:00:06s\n",
            "epoch 117| loss: 0.1194  | train_rmsle: 0.39183 | train_mae: 0.64496 | train_rmse: 0.83324 | train_mse: 0.69429 | valid_rmsle: 0.31992 | valid_mae: 0.53361 | valid_rmse: 0.72774 | valid_mse: 0.5296  |  0:00:06s\n",
            "epoch 118| loss: 0.11735 | train_rmsle: 0.38297 | train_mae: 0.62077 | train_rmse: 0.80839 | train_mse: 0.6535  | valid_rmsle: 0.30966 | valid_mae: 0.50525 | valid_rmse: 0.69797 | valid_mse: 0.48716 |  0:00:06s\n",
            "epoch 119| loss: 0.12229 | train_rmsle: 0.37785 | train_mae: 0.60624 | train_rmse: 0.79143 | train_mse: 0.62636 | valid_rmsle: 0.30316 | valid_mae: 0.48331 | valid_rmse: 0.67583 | valid_mse: 0.45674 |  0:00:06s\n",
            "epoch 120| loss: 0.1247  | train_rmsle: 0.38243 | train_mae: 0.62306 | train_rmse: 0.80277 | train_mse: 0.64444 | valid_rmsle: 0.30775 | valid_mae: 0.50519 | valid_rmse: 0.68963 | valid_mse: 0.47558 |  0:00:06s\n",
            "epoch 121| loss: 0.1215  | train_rmsle: 0.3793  | train_mae: 0.62084 | train_rmse: 0.79742 | train_mse: 0.63587 | valid_rmsle: 0.30554 | valid_mae: 0.50902 | valid_rmse: 0.68801 | valid_mse: 0.47336 |  0:00:07s\n",
            "epoch 122| loss: 0.12297 | train_rmsle: 0.37027 | train_mae: 0.59454 | train_rmse: 0.76966 | train_mse: 0.59238 | valid_rmsle: 0.29598 | valid_mae: 0.48098 | valid_rmse: 0.65603 | valid_mse: 0.43037 |  0:00:07s\n",
            "epoch 123| loss: 0.12377 | train_rmsle: 0.37215 | train_mae: 0.60437 | train_rmse: 0.77432 | train_mse: 0.59957 | valid_rmsle: 0.2988  | valid_mae: 0.49899 | valid_rmse: 0.66889 | valid_mse: 0.44741 |  0:00:07s\n",
            "epoch 124| loss: 0.13857 | train_rmsle: 0.36141 | train_mae: 0.57618 | train_rmse: 0.74273 | train_mse: 0.55165 | valid_rmsle: 0.28811 | valid_mae: 0.4704  | valid_rmse: 0.63952 | valid_mse: 0.40899 |  0:00:07s\n",
            "epoch 125| loss: 0.13755 | train_rmsle: 0.36133 | train_mae: 0.56866 | train_rmse: 0.74075 | train_mse: 0.5487  | valid_rmsle: 0.28484 | valid_mae: 0.45818 | valid_rmse: 0.6184  | valid_mse: 0.38241 |  0:00:07s\n",
            "epoch 126| loss: 0.13955 | train_rmsle: 0.36584 | train_mae: 0.58289 | train_rmse: 0.75055 | train_mse: 0.56332 | valid_rmsle: 0.28939 | valid_mae: 0.47445 | valid_rmse: 0.63818 | valid_mse: 0.40727 |  0:00:07s\n",
            "epoch 127| loss: 0.14858 | train_rmsle: 0.36894 | train_mae: 0.59296 | train_rmse: 0.76717 | train_mse: 0.58855 | valid_rmsle: 0.29144 | valid_mae: 0.48454 | valid_rmse: 0.65105 | valid_mse: 0.42386 |  0:00:07s\n",
            "epoch 128| loss: 0.12143 | train_rmsle: 0.35896 | train_mae: 0.56699 | train_rmse: 0.73202 | train_mse: 0.53585 | valid_rmsle: 0.28259 | valid_mae: 0.45742 | valid_rmse: 0.62699 | valid_mse: 0.39312 |  0:00:07s\n",
            "epoch 129| loss: 0.13175 | train_rmsle: 0.35792 | train_mae: 0.56462 | train_rmse: 0.7277  | train_mse: 0.52955 | valid_rmsle: 0.28226 | valid_mae: 0.45881 | valid_rmse: 0.629   | valid_mse: 0.39564 |  0:00:07s\n",
            "epoch 130| loss: 0.14552 | train_rmsle: 0.35799 | train_mae: 0.56048 | train_rmse: 0.72372 | train_mse: 0.52377 | valid_rmsle: 0.28051 | valid_mae: 0.45103 | valid_rmse: 0.61766 | valid_mse: 0.38151 |  0:00:07s\n",
            "epoch 131| loss: 0.11953 | train_rmsle: 0.35762 | train_mae: 0.56082 | train_rmse: 0.71705 | train_mse: 0.51415 | valid_rmsle: 0.28236 | valid_mae: 0.44898 | valid_rmse: 0.61928 | valid_mse: 0.38351 |  0:00:07s\n",
            "epoch 132| loss: 0.13983 | train_rmsle: 0.35946 | train_mae: 0.5644  | train_rmse: 0.72273 | train_mse: 0.52234 | valid_rmsle: 0.28266 | valid_mae: 0.4465  | valid_rmse: 0.61519 | valid_mse: 0.37846 |  0:00:07s\n",
            "epoch 133| loss: 0.14186 | train_rmsle: 0.35953 | train_mae: 0.5664  | train_rmse: 0.72917 | train_mse: 0.53169 | valid_rmsle: 0.28128 | valid_mae: 0.4467  | valid_rmse: 0.61388 | valid_mse: 0.37685 |  0:00:07s\n",
            "epoch 134| loss: 0.10138 | train_rmsle: 0.35937 | train_mae: 0.56867 | train_rmse: 0.72827 | train_mse: 0.53038 | valid_rmsle: 0.28222 | valid_mae: 0.45342 | valid_rmse: 0.61843 | valid_mse: 0.38245 |  0:00:07s\n",
            "epoch 135| loss: 0.10923 | train_rmsle: 0.3527  | train_mae: 0.55064 | train_rmse: 0.70972 | train_mse: 0.5037  | valid_rmsle: 0.27649 | valid_mae: 0.43336 | valid_rmse: 0.59976 | valid_mse: 0.35971 |  0:00:07s\n",
            "epoch 136| loss: 0.10207 | train_rmsle: 0.35112 | train_mae: 0.54824 | train_rmse: 0.70495 | train_mse: 0.49696 | valid_rmsle: 0.27398 | valid_mae: 0.42503 | valid_rmse: 0.59102 | valid_mse: 0.3493  |  0:00:07s\n",
            "epoch 137| loss: 0.13167 | train_rmsle: 0.35572 | train_mae: 0.56457 | train_rmse: 0.72073 | train_mse: 0.51945 | valid_rmsle: 0.28048 | valid_mae: 0.4438  | valid_rmse: 0.61551 | valid_mse: 0.37886 |  0:00:07s\n",
            "epoch 138| loss: 0.09822 | train_rmsle: 0.34763 | train_mae: 0.54115 | train_rmse: 0.71587 | train_mse: 0.51247 | valid_rmsle: 0.27001 | valid_mae: 0.41218 | valid_rmse: 0.5835  | valid_mse: 0.34047 |  0:00:07s\n",
            "epoch 139| loss: 0.10878 | train_rmsle: 0.34649 | train_mae: 0.53983 | train_rmse: 0.7126  | train_mse: 0.5078  | valid_rmsle: 0.26705 | valid_mae: 0.39917 | valid_rmse: 0.57113 | valid_mse: 0.3262  |  0:00:07s\n",
            "epoch 140| loss: 0.10642 | train_rmsle: 0.34444 | train_mae: 0.53531 | train_rmse: 0.71129 | train_mse: 0.50594 | valid_rmsle: 0.26638 | valid_mae: 0.39659 | valid_rmse: 0.56769 | valid_mse: 0.32228 |  0:00:07s\n",
            "epoch 141| loss: 0.14092 | train_rmsle: 0.34451 | train_mae: 0.53371 | train_rmse: 0.71949 | train_mse: 0.51767 | valid_rmsle: 0.26435 | valid_mae: 0.38979 | valid_rmse: 0.55853 | valid_mse: 0.31195 |  0:00:08s\n",
            "epoch 142| loss: 0.12272 | train_rmsle: 0.35208 | train_mae: 0.55575 | train_rmse: 0.73629 | train_mse: 0.54213 | valid_rmsle: 0.27065 | valid_mae: 0.40638 | valid_rmse: 0.58072 | valid_mse: 0.33724 |  0:00:08s\n",
            "epoch 143| loss: 0.10856 | train_rmsle: 0.34494 | train_mae: 0.5376  | train_rmse: 0.72247 | train_mse: 0.52196 | valid_rmsle: 0.26262 | valid_mae: 0.38444 | valid_rmse: 0.5583  | valid_mse: 0.3117  |  0:00:08s\n",
            "epoch 144| loss: 0.12435 | train_rmsle: 0.33923 | train_mae: 0.52073 | train_rmse: 0.69537 | train_mse: 0.48354 | valid_rmsle: 0.2607  | valid_mae: 0.37797 | valid_rmse: 0.54819 | valid_mse: 0.30052 |  0:00:08s\n",
            "epoch 145| loss: 0.11436 | train_rmsle: 0.3403  | train_mae: 0.52248 | train_rmse: 0.70655 | train_mse: 0.49921 | valid_rmsle: 0.26254 | valid_mae: 0.38066 | valid_rmse: 0.55479 | valid_mse: 0.30779 |  0:00:08s\n",
            "epoch 146| loss: 0.11028 | train_rmsle: 0.33668 | train_mae: 0.51171 | train_rmse: 0.69251 | train_mse: 0.47956 | valid_rmsle: 0.25893 | valid_mae: 0.36832 | valid_rmse: 0.53742 | valid_mse: 0.28882 |  0:00:08s\n",
            "epoch 147| loss: 0.10062 | train_rmsle: 0.33939 | train_mae: 0.51891 | train_rmse: 0.70088 | train_mse: 0.49123 | valid_rmsle: 0.26124 | valid_mae: 0.37132 | valid_rmse: 0.54604 | valid_mse: 0.29816 |  0:00:08s\n",
            "epoch 148| loss: 0.13665 | train_rmsle: 0.34486 | train_mae: 0.53328 | train_rmse: 0.70935 | train_mse: 0.50318 | valid_rmsle: 0.26517 | valid_mae: 0.38414 | valid_rmse: 0.56294 | valid_mse: 0.3169  |  0:00:08s\n",
            "epoch 149| loss: 0.12639 | train_rmsle: 0.33922 | train_mae: 0.51486 | train_rmse: 0.69567 | train_mse: 0.48396 | valid_rmsle: 0.25712 | valid_mae: 0.36384 | valid_rmse: 0.53399 | valid_mse: 0.28515 |  0:00:08s\n",
            "epoch 150| loss: 0.115   | train_rmsle: 0.33331 | train_mae: 0.50069 | train_rmse: 0.67897 | train_mse: 0.461   | valid_rmsle: 0.2516  | valid_mae: 0.3564  | valid_rmse: 0.51885 | valid_mse: 0.2692  |  0:00:08s\n",
            "epoch 151| loss: 0.10003 | train_rmsle: 0.32976 | train_mae: 0.49627 | train_rmse: 0.67397 | train_mse: 0.45423 | valid_rmsle: 0.24953 | valid_mae: 0.35676 | valid_rmse: 0.51879 | valid_mse: 0.26914 |  0:00:08s\n",
            "epoch 152| loss: 0.11664 | train_rmsle: 0.32755 | train_mae: 0.49108 | train_rmse: 0.66354 | train_mse: 0.44028 | valid_rmsle: 0.24853 | valid_mae: 0.35648 | valid_rmse: 0.51477 | valid_mse: 0.26498 |  0:00:08s\n",
            "epoch 153| loss: 0.12213 | train_rmsle: 0.3235  | train_mae: 0.4797  | train_rmse: 0.64177 | train_mse: 0.41187 | valid_rmsle: 0.24744 | valid_mae: 0.35312 | valid_rmse: 0.50368 | valid_mse: 0.25369 |  0:00:08s\n",
            "epoch 154| loss: 0.11303 | train_rmsle: 0.32582 | train_mae: 0.48415 | train_rmse: 0.64513 | train_mse: 0.41619 | valid_rmsle: 0.24977 | valid_mae: 0.35825 | valid_rmse: 0.51266 | valid_mse: 0.26282 |  0:00:08s\n",
            "epoch 155| loss: 0.11076 | train_rmsle: 0.32108 | train_mae: 0.4734  | train_rmse: 0.63581 | train_mse: 0.40426 | valid_rmsle: 0.2454  | valid_mae: 0.35236 | valid_rmse: 0.50424 | valid_mse: 0.25426 |  0:00:08s\n",
            "epoch 156| loss: 0.11622 | train_rmsle: 0.32172 | train_mae: 0.47567 | train_rmse: 0.63711 | train_mse: 0.40591 | valid_rmsle: 0.2485  | valid_mae: 0.35757 | valid_rmse: 0.51306 | valid_mse: 0.26323 |  0:00:08s\n",
            "epoch 157| loss: 0.1143  | train_rmsle: 0.31666 | train_mae: 0.46031 | train_rmse: 0.62368 | train_mse: 0.38897 | valid_rmsle: 0.24442 | valid_mae: 0.35254 | valid_rmse: 0.50328 | valid_mse: 0.25329 |  0:00:08s\n",
            "epoch 158| loss: 0.12348 | train_rmsle: 0.31084 | train_mae: 0.44572 | train_rmse: 0.60516 | train_mse: 0.36621 | valid_rmsle: 0.24008 | valid_mae: 0.35174 | valid_rmse: 0.48749 | valid_mse: 0.23764 |  0:00:08s\n",
            "epoch 159| loss: 0.11338 | train_rmsle: 0.31531 | train_mae: 0.45414 | train_rmse: 0.61269 | train_mse: 0.37539 | valid_rmsle: 0.24437 | valid_mae: 0.35841 | valid_rmse: 0.50179 | valid_mse: 0.25179 |  0:00:08s\n",
            "epoch 160| loss: 0.11447 | train_rmsle: 0.3179  | train_mae: 0.45935 | train_rmse: 0.61918 | train_mse: 0.38338 | valid_rmsle: 0.24731 | valid_mae: 0.36415 | valid_rmse: 0.51354 | valid_mse: 0.26372 |  0:00:09s\n",
            "epoch 161| loss: 0.09734 | train_rmsle: 0.31388 | train_mae: 0.4596  | train_rmse: 0.60887 | train_mse: 0.37072 | valid_rmsle: 0.24622 | valid_mae: 0.36203 | valid_rmse: 0.51153 | valid_mse: 0.26167 |  0:00:09s\n",
            "epoch 162| loss: 0.10584 | train_rmsle: 0.31036 | train_mae: 0.45323 | train_rmse: 0.60428 | train_mse: 0.36515 | valid_rmsle: 0.24319 | valid_mae: 0.36142 | valid_rmse: 0.50564 | valid_mse: 0.25567 |  0:00:09s\n",
            "epoch 163| loss: 0.11567 | train_rmsle: 0.30896 | train_mae: 0.44676 | train_rmse: 0.59954 | train_mse: 0.35945 | valid_rmsle: 0.24058 | valid_mae: 0.36112 | valid_rmse: 0.49237 | valid_mse: 0.24243 |  0:00:09s\n",
            "epoch 164| loss: 0.12842 | train_rmsle: 0.30391 | train_mae: 0.43429 | train_rmse: 0.57954 | train_mse: 0.33586 | valid_rmsle: 0.23782 | valid_mae: 0.35327 | valid_rmse: 0.47927 | valid_mse: 0.2297  |  0:00:09s\n",
            "epoch 165| loss: 0.10601 | train_rmsle: 0.31113 | train_mae: 0.4505  | train_rmse: 0.60486 | train_mse: 0.36586 | valid_rmsle: 0.24247 | valid_mae: 0.3636  | valid_rmse: 0.49662 | valid_mse: 0.24663 |  0:00:09s\n",
            "epoch 166| loss: 0.11499 | train_rmsle: 0.31108 | train_mae: 0.44829 | train_rmse: 0.59938 | train_mse: 0.35925 | valid_rmsle: 0.24226 | valid_mae: 0.35412 | valid_rmse: 0.49346 | valid_mse: 0.2435  |  0:00:09s\n",
            "epoch 167| loss: 0.12667 | train_rmsle: 0.31359 | train_mae: 0.44895 | train_rmse: 0.62231 | train_mse: 0.38727 | valid_rmsle: 0.239   | valid_mae: 0.34572 | valid_rmse: 0.48474 | valid_mse: 0.23498 |  0:00:09s\n",
            "epoch 168| loss: 0.12312 | train_rmsle: 0.3029  | train_mae: 0.42562 | train_rmse: 0.57863 | train_mse: 0.33481 | valid_rmsle: 0.23521 | valid_mae: 0.34715 | valid_rmse: 0.47344 | valid_mse: 0.22415 |  0:00:09s\n",
            "epoch 169| loss: 0.1049  | train_rmsle: 0.30195 | train_mae: 0.42348 | train_rmse: 0.57508 | train_mse: 0.33072 | valid_rmsle: 0.23518 | valid_mae: 0.34752 | valid_rmse: 0.47498 | valid_mse: 0.2256  |  0:00:09s\n",
            "epoch 170| loss: 0.11897 | train_rmsle: 0.30206 | train_mae: 0.42152 | train_rmse: 0.57551 | train_mse: 0.33121 | valid_rmsle: 0.2336  | valid_mae: 0.34031 | valid_rmse: 0.46898 | valid_mse: 0.21994 |  0:00:09s\n",
            "epoch 171| loss: 0.11013 | train_rmsle: 0.29485 | train_mae: 0.4055  | train_rmse: 0.56089 | train_mse: 0.31459 | valid_rmsle: 0.2266  | valid_mae: 0.32727 | valid_rmse: 0.45215 | valid_mse: 0.20444 |  0:00:09s\n",
            "epoch 172| loss: 0.11266 | train_rmsle: 0.2976  | train_mae: 0.41203 | train_rmse: 0.5698  | train_mse: 0.32467 | valid_rmsle: 0.2302  | valid_mae: 0.33601 | valid_rmse: 0.46491 | valid_mse: 0.21614 |  0:00:09s\n",
            "epoch 173| loss: 0.10329 | train_rmsle: 0.30097 | train_mae: 0.41784 | train_rmse: 0.57757 | train_mse: 0.33359 | valid_rmsle: 0.23345 | valid_mae: 0.34652 | valid_rmse: 0.47489 | valid_mse: 0.22552 |  0:00:09s\n",
            "epoch 174| loss: 0.11062 | train_rmsle: 0.29757 | train_mae: 0.41007 | train_rmse: 0.57005 | train_mse: 0.32496 | valid_rmsle: 0.23079 | valid_mae: 0.34276 | valid_rmse: 0.46846 | valid_mse: 0.21945 |  0:00:09s\n",
            "epoch 175| loss: 0.10006 | train_rmsle: 0.29834 | train_mae: 0.41221 | train_rmse: 0.57648 | train_mse: 0.33233 | valid_rmsle: 0.22864 | valid_mae: 0.33499 | valid_rmse: 0.46546 | valid_mse: 0.21665 |  0:00:09s\n",
            "epoch 176| loss: 0.1153  | train_rmsle: 0.29762 | train_mae: 0.41142 | train_rmse: 0.57362 | train_mse: 0.32903 | valid_rmsle: 0.22778 | valid_mae: 0.3298  | valid_rmse: 0.46095 | valid_mse: 0.21248 |  0:00:09s\n",
            "epoch 177| loss: 0.11484 | train_rmsle: 0.29969 | train_mae: 0.41389 | train_rmse: 0.58418 | train_mse: 0.34126 | valid_rmsle: 0.22558 | valid_mae: 0.31939 | valid_rmse: 0.45625 | valid_mse: 0.20816 |  0:00:09s\n",
            "epoch 178| loss: 0.11322 | train_rmsle: 0.29756 | train_mae: 0.41499 | train_rmse: 0.5827  | train_mse: 0.33954 | valid_rmsle: 0.22923 | valid_mae: 0.3336  | valid_rmse: 0.47314 | valid_mse: 0.22386 |  0:00:09s\n",
            "epoch 179| loss: 0.11106 | train_rmsle: 0.29681 | train_mae: 0.41355 | train_rmse: 0.58262 | train_mse: 0.33944 | valid_rmsle: 0.22989 | valid_mae: 0.33149 | valid_rmse: 0.47776 | valid_mse: 0.22825 |  0:00:10s\n",
            "epoch 180| loss: 0.13983 | train_rmsle: 0.2973  | train_mae: 0.41166 | train_rmse: 0.57925 | train_mse: 0.33554 | valid_rmsle: 0.23157 | valid_mae: 0.33504 | valid_rmse: 0.47792 | valid_mse: 0.2284  |  0:00:10s\n",
            "epoch 181| loss: 0.10685 | train_rmsle: 0.29498 | train_mae: 0.40476 | train_rmse: 0.5723  | train_mse: 0.32753 | valid_rmsle: 0.22681 | valid_mae: 0.32434 | valid_rmse: 0.457   | valid_mse: 0.20885 |  0:00:10s\n",
            "epoch 182| loss: 0.11067 | train_rmsle: 0.29171 | train_mae: 0.39455 | train_rmse: 0.56231 | train_mse: 0.3162  | valid_rmsle: 0.22286 | valid_mae: 0.31667 | valid_rmse: 0.44487 | valid_mse: 0.19791 |  0:00:10s\n",
            "epoch 183| loss: 0.10625 | train_rmsle: 0.29075 | train_mae: 0.3907  | train_rmse: 0.56107 | train_mse: 0.31479 | valid_rmsle: 0.2196  | valid_mae: 0.30789 | valid_rmse: 0.4356  | valid_mse: 0.18975 |  0:00:10s\n",
            "epoch 184| loss: 0.13691 | train_rmsle: 0.29326 | train_mae: 0.39727 | train_rmse: 0.5753  | train_mse: 0.33097 | valid_rmsle: 0.22292 | valid_mae: 0.31577 | valid_rmse: 0.45682 | valid_mse: 0.20868 |  0:00:10s\n",
            "epoch 185| loss: 0.10713 | train_rmsle: 0.29036 | train_mae: 0.38908 | train_rmse: 0.56249 | train_mse: 0.3164  | valid_rmsle: 0.22047 | valid_mae: 0.30886 | valid_rmse: 0.44546 | valid_mse: 0.19843 |  0:00:10s\n",
            "epoch 186| loss: 0.11151 | train_rmsle: 0.28933 | train_mae: 0.38723 | train_rmse: 0.56131 | train_mse: 0.31507 | valid_rmsle: 0.22212 | valid_mae: 0.31908 | valid_rmse: 0.45277 | valid_mse: 0.205   |  0:00:10s\n",
            "epoch 187| loss: 0.1004  | train_rmsle: 0.28679 | train_mae: 0.37853 | train_rmse: 0.5544  | train_mse: 0.30736 | valid_rmsle: 0.21595 | valid_mae: 0.30775 | valid_rmse: 0.42896 | valid_mse: 0.184   |  0:00:10s\n",
            "epoch 188| loss: 0.10136 | train_rmsle: 0.28481 | train_mae: 0.37118 | train_rmse: 0.5437  | train_mse: 0.29561 | valid_rmsle: 0.2126  | valid_mae: 0.29037 | valid_rmse: 0.41157 | valid_mse: 0.16939 |  0:00:10s\n",
            "epoch 189| loss: 0.1003  | train_rmsle: 0.28759 | train_mae: 0.37739 | train_rmse: 0.55393 | train_mse: 0.30684 | valid_rmsle: 0.21503 | valid_mae: 0.29501 | valid_rmse: 0.42075 | valid_mse: 0.17703 |  0:00:10s\n",
            "epoch 190| loss: 0.10948 | train_rmsle: 0.2868  | train_mae: 0.37562 | train_rmse: 0.54751 | train_mse: 0.29976 | valid_rmsle: 0.21699 | valid_mae: 0.29598 | valid_rmse: 0.42346 | valid_mse: 0.17932 |  0:00:10s\n",
            "epoch 191| loss: 0.13416 | train_rmsle: 0.28628 | train_mae: 0.37528 | train_rmse: 0.54361 | train_mse: 0.29551 | valid_rmsle: 0.21567 | valid_mae: 0.29115 | valid_rmse: 0.41602 | valid_mse: 0.17307 |  0:00:10s\n",
            "epoch 192| loss: 0.11331 | train_rmsle: 0.28403 | train_mae: 0.36979 | train_rmse: 0.53817 | train_mse: 0.28963 | valid_rmsle: 0.21195 | valid_mae: 0.28481 | valid_rmse: 0.40292 | valid_mse: 0.16234 |  0:00:11s\n",
            "epoch 193| loss: 0.11409 | train_rmsle: 0.27952 | train_mae: 0.35746 | train_rmse: 0.52417 | train_mse: 0.27476 | valid_rmsle: 0.20517 | valid_mae: 0.26515 | valid_rmse: 0.37713 | valid_mse: 0.14223 |  0:00:11s\n",
            "epoch 194| loss: 0.09775 | train_rmsle: 0.27543 | train_mae: 0.34998 | train_rmse: 0.51514 | train_mse: 0.26537 | valid_rmsle: 0.20117 | valid_mae: 0.26001 | valid_rmse: 0.36842 | valid_mse: 0.13574 |  0:00:11s\n",
            "epoch 195| loss: 0.11575 | train_rmsle: 0.27329 | train_mae: 0.34726 | train_rmse: 0.50919 | train_mse: 0.25928 | valid_rmsle: 0.1979  | valid_mae: 0.25374 | valid_rmse: 0.35968 | valid_mse: 0.12937 |  0:00:11s\n",
            "epoch 196| loss: 0.10552 | train_rmsle: 0.27565 | train_mae: 0.35499 | train_rmse: 0.51484 | train_mse: 0.26506 | valid_rmsle: 0.20058 | valid_mae: 0.26119 | valid_rmse: 0.36713 | valid_mse: 0.13478 |  0:00:11s\n",
            "epoch 197| loss: 0.11622 | train_rmsle: 0.27705 | train_mae: 0.36029 | train_rmse: 0.51538 | train_mse: 0.26562 | valid_rmsle: 0.20235 | valid_mae: 0.26061 | valid_rmse: 0.36902 | valid_mse: 0.13617 |  0:00:11s\n",
            "epoch 198| loss: 0.11542 | train_rmsle: 0.27452 | train_mae: 0.35528 | train_rmse: 0.51029 | train_mse: 0.2604  | valid_rmsle: 0.19976 | valid_mae: 0.25684 | valid_rmse: 0.36264 | valid_mse: 0.13151 |  0:00:11s\n",
            "epoch 199| loss: 0.10752 | train_rmsle: 0.26904 | train_mae: 0.34414 | train_rmse: 0.4987  | train_mse: 0.2487  | valid_rmsle: 0.19457 | valid_mae: 0.24923 | valid_rmse: 0.35076 | valid_mse: 0.12304 |  0:00:11s\n",
            "epoch 200| loss: 0.10853 | train_rmsle: 0.2681  | train_mae: 0.34377 | train_rmse: 0.49833 | train_mse: 0.24833 | valid_rmsle: 0.19347 | valid_mae: 0.24759 | valid_rmse: 0.3502  | valid_mse: 0.12264 |  0:00:11s\n",
            "epoch 201| loss: 0.11191 | train_rmsle: 0.26151 | train_mae: 0.32895 | train_rmse: 0.48244 | train_mse: 0.23275 | valid_rmsle: 0.18642 | valid_mae: 0.23304 | valid_rmse: 0.33156 | valid_mse: 0.10993 |  0:00:11s\n",
            "epoch 202| loss: 0.10276 | train_rmsle: 0.26324 | train_mae: 0.33554 | train_rmse: 0.48694 | train_mse: 0.23711 | valid_rmsle: 0.18957 | valid_mae: 0.24252 | valid_rmse: 0.34188 | valid_mse: 0.11688 |  0:00:11s\n",
            "epoch 203| loss: 0.10112 | train_rmsle: 0.26284 | train_mae: 0.33434 | train_rmse: 0.48614 | train_mse: 0.23634 | valid_rmsle: 0.18577 | valid_mae: 0.23772 | valid_rmse: 0.32771 | valid_mse: 0.10739 |  0:00:11s\n",
            "epoch 204| loss: 0.10449 | train_rmsle: 0.2659  | train_mae: 0.34327 | train_rmse: 0.49237 | train_mse: 0.24243 | valid_rmsle: 0.19037 | valid_mae: 0.24636 | valid_rmse: 0.341   | valid_mse: 0.11628 |  0:00:11s\n",
            "epoch 205| loss: 0.09814 | train_rmsle: 0.26625 | train_mae: 0.34377 | train_rmse: 0.49491 | train_mse: 0.24493 | valid_rmsle: 0.18492 | valid_mae: 0.23888 | valid_rmse: 0.32002 | valid_mse: 0.10241 |  0:00:12s\n",
            "epoch 206| loss: 0.10557 | train_rmsle: 0.26556 | train_mae: 0.34249 | train_rmse: 0.50436 | train_mse: 0.25438 | valid_rmsle: 0.17846 | valid_mae: 0.22529 | valid_rmse: 0.29688 | valid_mse: 0.08814 |  0:00:12s\n",
            "epoch 207| loss: 0.11562 | train_rmsle: 0.26472 | train_mae: 0.34294 | train_rmse: 0.50479 | train_mse: 0.25481 | valid_rmsle: 0.1754  | valid_mae: 0.21881 | valid_rmse: 0.28824 | valid_mse: 0.08308 |  0:00:12s\n",
            "epoch 208| loss: 0.1057  | train_rmsle: 0.25859 | train_mae: 0.3346  | train_rmse: 0.47516 | train_mse: 0.22578 | valid_rmsle: 0.17826 | valid_mae: 0.22133 | valid_rmse: 0.29451 | valid_mse: 0.08673 |  0:00:12s\n",
            "epoch 209| loss: 0.11453 | train_rmsle: 0.25597 | train_mae: 0.32834 | train_rmse: 0.46995 | train_mse: 0.22085 | valid_rmsle: 0.17831 | valid_mae: 0.22053 | valid_rmse: 0.29616 | valid_mse: 0.08771 |  0:00:12s\n",
            "epoch 210| loss: 0.10176 | train_rmsle: 0.25709 | train_mae: 0.3317  | train_rmse: 0.46916 | train_mse: 0.22011 | valid_rmsle: 0.18595 | valid_mae: 0.234   | valid_rmse: 0.31508 | valid_mse: 0.09927 |  0:00:12s\n",
            "epoch 211| loss: 0.14161 | train_rmsle: 0.25498 | train_mae: 0.3271  | train_rmse: 0.46654 | train_mse: 0.21766 | valid_rmsle: 0.18658 | valid_mae: 0.23558 | valid_rmse: 0.32468 | valid_mse: 0.10542 |  0:00:12s\n",
            "epoch 212| loss: 0.11096 | train_rmsle: 0.25669 | train_mae: 0.33378 | train_rmse: 0.47016 | train_mse: 0.22105 | valid_rmsle: 0.18902 | valid_mae: 0.24106 | valid_rmse: 0.33246 | valid_mse: 0.11053 |  0:00:12s\n",
            "epoch 213| loss: 0.11135 | train_rmsle: 0.2567  | train_mae: 0.33587 | train_rmse: 0.46971 | train_mse: 0.22063 | valid_rmsle: 0.18679 | valid_mae: 0.23684 | valid_rmse: 0.3165  | valid_mse: 0.10017 |  0:00:12s\n",
            "epoch 214| loss: 0.10163 | train_rmsle: 0.25552 | train_mae: 0.33426 | train_rmse: 0.46444 | train_mse: 0.21571 | valid_rmsle: 0.19174 | valid_mae: 0.24202 | valid_rmse: 0.3307  | valid_mse: 0.10936 |  0:00:12s\n",
            "epoch 215| loss: 0.12033 | train_rmsle: 0.26391 | train_mae: 0.35218 | train_rmse: 0.54097 | train_mse: 0.29265 | valid_rmsle: 0.18851 | valid_mae: 0.23171 | valid_rmse: 0.31602 | valid_mse: 0.09987 |  0:00:12s\n",
            "epoch 216| loss: 0.11725 | train_rmsle: 0.25133 | train_mae: 0.3317  | train_rmse: 0.46452 | train_mse: 0.21578 | valid_rmsle: 0.18148 | valid_mae: 0.22297 | valid_rmse: 0.29968 | valid_mse: 0.08981 |  0:00:12s\n",
            "epoch 217| loss: 0.11405 | train_rmsle: 0.24518 | train_mae: 0.3166  | train_rmse: 0.44602 | train_mse: 0.19894 | valid_rmsle: 0.17937 | valid_mae: 0.22348 | valid_rmse: 0.29994 | valid_mse: 0.08997 |  0:00:12s\n",
            "epoch 218| loss: 0.10997 | train_rmsle: 0.24197 | train_mae: 0.31248 | train_rmse: 0.43998 | train_mse: 0.19359 | valid_rmsle: 0.17594 | valid_mae: 0.21333 | valid_rmse: 0.2873  | valid_mse: 0.08254 |  0:00:12s\n",
            "epoch 219| loss: 0.12373 | train_rmsle: 0.24713 | train_mae: 0.32484 | train_rmse: 0.44563 | train_mse: 0.19858 | valid_rmsle: 0.18226 | valid_mae: 0.21774 | valid_rmse: 0.28677 | valid_mse: 0.08224 |  0:00:12s\n",
            "epoch 220| loss: 0.11046 | train_rmsle: 0.24754 | train_mae: 0.32632 | train_rmse: 0.45065 | train_mse: 0.20309 | valid_rmsle: 0.18105 | valid_mae: 0.2169  | valid_rmse: 0.2853  | valid_mse: 0.0814  |  0:00:12s\n",
            "epoch 221| loss: 0.10503 | train_rmsle: 0.24477 | train_mae: 0.3199  | train_rmse: 0.4484  | train_mse: 0.20106 | valid_rmsle: 0.17666 | valid_mae: 0.21391 | valid_rmse: 0.28052 | valid_mse: 0.07869 |  0:00:12s\n",
            "epoch 222| loss: 0.13781 | train_rmsle: 0.24222 | train_mae: 0.3169  | train_rmse: 0.44465 | train_mse: 0.19771 | valid_rmsle: 0.18451 | valid_mae: 0.23388 | valid_rmse: 0.31274 | valid_mse: 0.09781 |  0:00:13s\n",
            "epoch 223| loss: 0.10285 | train_rmsle: 0.23877 | train_mae: 0.30852 | train_rmse: 0.43613 | train_mse: 0.19021 | valid_rmsle: 0.20786 | valid_mae: 0.27083 | valid_rmse: 0.43008 | valid_mse: 0.18497 |  0:00:13s\n",
            "epoch 224| loss: 0.10896 | train_rmsle: 0.23959 | train_mae: 0.31211 | train_rmse: 0.43821 | train_mse: 0.19203 | valid_rmsle: 0.1972  | valid_mae: 0.26103 | valid_rmse: 0.37753 | valid_mse: 0.14253 |  0:00:13s\n",
            "epoch 225| loss: 0.10543 | train_rmsle: 0.24283 | train_mae: 0.32255 | train_rmse: 0.44561 | train_mse: 0.19857 | valid_rmsle: 0.18321 | valid_mae: 0.24546 | valid_rmse: 0.31717 | valid_mse: 0.1006  |  0:00:13s\n",
            "epoch 226| loss: 0.11093 | train_rmsle: 0.24328 | train_mae: 0.32673 | train_rmse: 0.45033 | train_mse: 0.2028  | valid_rmsle: 0.17685 | valid_mae: 0.23095 | valid_rmse: 0.29582 | valid_mse: 0.08751 |  0:00:13s\n",
            "epoch 227| loss: 0.10257 | train_rmsle: 0.23943 | train_mae: 0.31865 | train_rmse: 0.43946 | train_mse: 0.19313 | valid_rmsle: 0.18262 | valid_mae: 0.24348 | valid_rmse: 0.31608 | valid_mse: 0.0999  |  0:00:13s\n",
            "epoch 228| loss: 0.11783 | train_rmsle: 0.24222 | train_mae: 0.32405 | train_rmse: 0.44798 | train_mse: 0.20069 | valid_rmsle: 0.17469 | valid_mae: 0.21784 | valid_rmse: 0.28455 | valid_mse: 0.08097 |  0:00:13s\n",
            "epoch 229| loss: 0.13163 | train_rmsle: 0.24406 | train_mae: 0.33048 | train_rmse: 0.4537  | train_mse: 0.20584 | valid_rmsle: 0.17855 | valid_mae: 0.2329  | valid_rmse: 0.29441 | valid_mse: 0.08668 |  0:00:13s\n",
            "epoch 230| loss: 0.10196 | train_rmsle: 0.24262 | train_mae: 0.32917 | train_rmse: 0.45096 | train_mse: 0.20337 | valid_rmsle: 0.17775 | valid_mae: 0.23339 | valid_rmse: 0.29576 | valid_mse: 0.08747 |  0:00:13s\n",
            "epoch 231| loss: 0.09367 | train_rmsle: 0.24202 | train_mae: 0.32842 | train_rmse: 0.45016 | train_mse: 0.20264 | valid_rmsle: 0.17707 | valid_mae: 0.23177 | valid_rmse: 0.29435 | valid_mse: 0.08664 |  0:00:13s\n",
            "epoch 232| loss: 0.11139 | train_rmsle: 0.23996 | train_mae: 0.32885 | train_rmse: 0.43761 | train_mse: 0.1915  | valid_rmsle: 0.18509 | valid_mae: 0.2446  | valid_rmse: 0.31329 | valid_mse: 0.09815 |  0:00:13s\n",
            "epoch 233| loss: 0.11349 | train_rmsle: 0.23867 | train_mae: 0.32352 | train_rmse: 0.43734 | train_mse: 0.19126 | valid_rmsle: 0.18756 | valid_mae: 0.24732 | valid_rmse: 0.3269  | valid_mse: 0.10686 |  0:00:13s\n",
            "epoch 234| loss: 0.11262 | train_rmsle: 0.23666 | train_mae: 0.31874 | train_rmse: 0.42931 | train_mse: 0.18431 | valid_rmsle: 0.18764 | valid_mae: 0.24671 | valid_rmse: 0.32603 | valid_mse: 0.10629 |  0:00:13s\n",
            "epoch 235| loss: 0.09827 | train_rmsle: 0.22922 | train_mae: 0.30346 | train_rmse: 0.41631 | train_mse: 0.17331 | valid_rmsle: 0.17842 | valid_mae: 0.22531 | valid_rmse: 0.30422 | valid_mse: 0.09255 |  0:00:13s\n",
            "epoch 236| loss: 0.10935 | train_rmsle: 0.23272 | train_mae: 0.31125 | train_rmse: 0.4304  | train_mse: 0.18524 | valid_rmsle: 0.17641 | valid_mae: 0.22382 | valid_rmse: 0.29741 | valid_mse: 0.08845 |  0:00:13s\n",
            "epoch 237| loss: 0.10307 | train_rmsle: 0.23287 | train_mae: 0.31366 | train_rmse: 0.42951 | train_mse: 0.18448 | valid_rmsle: 0.17881 | valid_mae: 0.22342 | valid_rmse: 0.29616 | valid_mse: 0.08771 |  0:00:13s\n",
            "epoch 238| loss: 0.10383 | train_rmsle: 0.23307 | train_mae: 0.31229 | train_rmse: 0.4322  | train_mse: 0.1868  | valid_rmsle: 0.17868 | valid_mae: 0.2258  | valid_rmse: 0.29726 | valid_mse: 0.08837 |  0:00:13s\n",
            "epoch 239| loss: 0.09349 | train_rmsle: 0.23137 | train_mae: 0.30746 | train_rmse: 0.42176 | train_mse: 0.17788 | valid_rmsle: 0.18311 | valid_mae: 0.23262 | valid_rmse: 0.30401 | valid_mse: 0.09242 |  0:00:13s\n",
            "epoch 240| loss: 0.10247 | train_rmsle: 0.22883 | train_mae: 0.30327 | train_rmse: 0.41689 | train_mse: 0.1738  | valid_rmsle: 0.18577 | valid_mae: 0.23898 | valid_rmse: 0.3165  | valid_mse: 0.10017 |  0:00:13s\n",
            "epoch 241| loss: 0.08313 | train_rmsle: 0.23105 | train_mae: 0.30963 | train_rmse: 0.42245 | train_mse: 0.17846 | valid_rmsle: 0.18224 | valid_mae: 0.22843 | valid_rmse: 0.29978 | valid_mse: 0.08987 |  0:00:14s\n",
            "epoch 242| loss: 0.15214 | train_rmsle: 0.2347  | train_mae: 0.31998 | train_rmse: 0.42995 | train_mse: 0.18486 | valid_rmsle: 0.18737 | valid_mae: 0.22378 | valid_rmse: 0.29237 | valid_mse: 0.08548 |  0:00:14s\n",
            "epoch 243| loss: 0.10916 | train_rmsle: 0.23376 | train_mae: 0.31348 | train_rmse: 0.43045 | train_mse: 0.18529 | valid_rmsle: 0.18779 | valid_mae: 0.2316  | valid_rmse: 0.30587 | valid_mse: 0.09356 |  0:00:14s\n",
            "epoch 244| loss: 0.11054 | train_rmsle: 0.2345  | train_mae: 0.31597 | train_rmse: 0.43454 | train_mse: 0.18882 | valid_rmsle: 0.18866 | valid_mae: 0.23954 | valid_rmse: 0.31106 | valid_mse: 0.09676 |  0:00:14s\n",
            "epoch 245| loss: 0.09998 | train_rmsle: 0.2289  | train_mae: 0.30451 | train_rmse: 0.42374 | train_mse: 0.17956 | valid_rmsle: 0.18278 | valid_mae: 0.22318 | valid_rmse: 0.29606 | valid_mse: 0.08765 |  0:00:14s\n",
            "epoch 246| loss: 0.09826 | train_rmsle: 0.22556 | train_mae: 0.29996 | train_rmse: 0.41402 | train_mse: 0.17141 | valid_rmsle: 0.18129 | valid_mae: 0.22304 | valid_rmse: 0.29772 | valid_mse: 0.08864 |  0:00:14s\n",
            "epoch 247| loss: 0.10011 | train_rmsle: 0.23055 | train_mae: 0.30959 | train_rmse: 0.42484 | train_mse: 0.18049 | valid_rmsle: 0.19116 | valid_mae: 0.23682 | valid_rmse: 0.30649 | valid_mse: 0.09394 |  0:00:14s\n",
            "epoch 248| loss: 0.10106 | train_rmsle: 0.22611 | train_mae: 0.30016 | train_rmse: 0.41374 | train_mse: 0.17118 | valid_rmsle: 0.19015 | valid_mae: 0.23491 | valid_rmse: 0.30739 | valid_mse: 0.09449 |  0:00:14s\n",
            "epoch 249| loss: 0.09079 | train_rmsle: 0.2231  | train_mae: 0.29391 | train_rmse: 0.40759 | train_mse: 0.16613 | valid_rmsle: 0.19693 | valid_mae: 0.24798 | valid_rmse: 0.34422 | valid_mse: 0.11849 |  0:00:14s\n",
            "Stop training because you reached max_epochs = 250 with best_epoch = 221 and best_valid_mse = 0.07869\n",
            "BEST VALID SCORE FOR iris : 0.07868936577391811\n",
            "FINAL TEST SCORE FOR iris : 0.15312814536405625\n"
          ]
        },
        {
          "output_type": "stream",
          "name": "stderr",
          "text": [
            "/usr/local/lib/python3.10/dist-packages/pytorch_tabnet/callbacks.py:172: UserWarning: Best weights from best epoch are automatically used!\n",
            "  warnings.warn(wrn_msg)\n"
          ]
        }
      ]
    },
    {
      "cell_type": "code",
      "source": [
        "saving_path_name = \"/content/tabnet_model_test_1\"\n",
        "saved_filepath = clf.save_model(saving_path_name)\n",
        "# define new model with basic parameters and load state dict weights\n",
        "loaded_clf = TabNetRegressor()\n",
        "loaded_clf.load_model(saved_filepath)\n",
        "loaded_preds = loaded_clf.predict(X_test)\n",
        "loaded_test_mse = mean_squared_error(loaded_preds, y_test)\n",
        "\n",
        "print(f\"FINAL MSE TEST SCORE FOR {dataset_name} : {loaded_test_mse}\")\n",
        "\n",
        "rounded_preds = loaded_preds\n",
        "for i in range(0, len(rounded_preds)):\n",
        "  rounded_preds[i][0] = round(loaded_preds[i][0])\n",
        "# print(rounded_preds)\n",
        "accuracy = (rounded_preds == y_test).sum() / len(y_test)\n",
        "acc_percent = round(accuracy*100, 2)\n",
        "print(f\"Testing accuracy for {dataset_name}: {acc_percent}%\")"
      ],
      "metadata": {
        "colab": {
          "base_uri": "https://localhost:8080/"
        },
        "id": "8UxVn7p7p1XM",
        "outputId": "3c0b524b-5ff3-44c9-99c3-51d2a6e20521"
      },
      "execution_count": 189,
      "outputs": [
        {
          "output_type": "stream",
          "name": "stdout",
          "text": [
            "Successfully saved model at /content/tabnet_model_test_1.zip\n",
            "FINAL MSE TEST SCORE FOR iris : 0.15312814536405625\n",
            "Testing accuracy for iris: 76.92%\n"
          ]
        },
        {
          "output_type": "stream",
          "name": "stderr",
          "text": [
            "/usr/local/lib/python3.10/dist-packages/pytorch_tabnet/abstract_model.py:82: UserWarning: Device used : cpu\n",
            "  warnings.warn(f\"Device used : {self.device}\")\n"
          ]
        }
      ]
    },
    {
      "cell_type": "code",
      "source": [
        "loss_history = clf.history['loss']\n",
        "plt.xlabel(\"Epoch\")\n",
        "plt.ylabel(\"Training Loss\")\n",
        "plt.plot(loss_history)"
      ],
      "metadata": {
        "colab": {
          "base_uri": "https://localhost:8080/",
          "height": 467
        },
        "id": "HVpk7H9juPoD",
        "outputId": "7eb4e041-591f-4868-8bb8-61b6e5aeb8fa"
      },
      "execution_count": 190,
      "outputs": [
        {
          "output_type": "execute_result",
          "data": {
            "text/plain": [
              "[<matplotlib.lines.Line2D at 0x7fe981ad0d90>]"
            ]
          },
          "metadata": {},
          "execution_count": 190
        },
        {
          "output_type": "display_data",
          "data": {
            "text/plain": [
              "<Figure size 640x480 with 1 Axes>"
            ],
            "image/png": "[encoded data removed]"
          },
          "metadata": {}
        }
      ]
    },
    {
      "cell_type": "code",
      "source": [
        "feature_attention = clf.feature_importances_\n",
        "print(feature_attention)\n",
        "plt.xlabel(\"Feature\")\n",
        "plt.ylabel(\"Attention\")\n",
        "plt.bar(features, feature_attention, width = 0.5)"
      ],
      "metadata": {
        "colab": {
          "base_uri": "https://localhost:8080/",
          "height": 484
        },
        "id": "gPWDTu8zw0NI",
        "outputId": "192f847f-b5ea-4315-93e0-4f6f914d3294"
      },
      "execution_count": 191,
      "outputs": [
        {
          "output_type": "stream",
          "name": "stdout",
          "text": [
            "[0.19851833 0.16362336 0.40321816 0.23464015]\n"
          ]
        },
        {
          "output_type": "execute_result",
          "data": {
            "text/plain": [
              "<BarContainer object of 4 artists>"
            ]
          },
          "metadata": {},
          "execution_count": 191
        },
        {
          "output_type": "display_data",
          "data": {
            "text/plain": [
              "<Figure size 640x480 with 1 Axes>"
            ],
            "image/png": "[encoded data removed]"
          },
          "metadata": {}
        }
      ]
    },
    {
      "cell_type": "code",
      "source": [
        "explain_matrix, masks = clf.explain(X_test)\n",
        "fig, axs = plt.subplots(1, 3, figsize=(20,20))\n",
        "\n",
        "for i in range(3):\n",
        "    axs[i].imshow(masks[i][:50])\n",
        "    axs[i].set_title(f\"mask {i}\")"
      ],
      "metadata": {
        "colab": {
          "base_uri": "https://localhost:8080/",
          "height": 1000
        },
        "id": "hmJ3Ouoa6Qil",
        "outputId": "f918c772-8604-488d-fd5e-eb7effe960dc"
      },
      "execution_count": 201,
      "outputs": [
        {
          "output_type": "display_data",
          "data": {
            "text/plain": [
              "<Figure size 2000x2000 with 3 Axes>"
            ],
            "image/png": "[encoded data removed]"
          },
          "metadata": {}
        }
      ]
    }
  ]
}